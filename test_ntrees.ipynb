{
 "cells": [
  {
   "cell_type": "code",
   "execution_count": 1,
   "id": "9877b553-b802-493d-ba45-abd7b471d16b",
   "metadata": {},
   "outputs": [],
   "source": [
    "import contextlib\n",
    "import joblib\n",
    "import numpy as np\n",
    "import matplotlib.pyplot as plt\n",
    "\n",
    "from joblib import Parallel, delayed\n",
    "from sklearn.metrics import roc_curve\n",
    "from tqdm.notebook import trange, tqdm\n",
    "\n",
    "from sktree.ensemble import HonestForestClassifier\n",
    "from sktree.stats import build_hyppo_oob_forest"
   ]
  },
  {
   "cell_type": "code",
   "execution_count": 2,
   "id": "a4dfdd46-8a30-4ecd-980e-2be1ce1e32c9",
   "metadata": {},
   "outputs": [],
   "source": [
    "# @contextlib.contextmanager\n",
    "# def tqdm_joblib(tqdm_object):\n",
    "#     \"\"\"Context manager to patch joblib to report into tqdm progress bar given as argument\"\"\"\n",
    "#     class TqdmBatchCompletionCallback(joblib.parallel.BatchCompletionCallBack):\n",
    "#         def __call__(self, *args, **kwargs):\n",
    "#             tqdm_object.update(n=self.batch_size)\n",
    "#             return super().__call__(*args, **kwargs)\n",
    "\n",
    "#     old_batch_callback = joblib.parallel.BatchCompletionCallBack\n",
    "#     joblib.parallel.BatchCompletionCallBack = TqdmBatchCompletionCallback\n",
    "#     try:\n",
    "#         yield tqdm_object\n",
    "#     finally:\n",
    "#         joblib.parallel.BatchCompletionCallBack = old_batch_callback\n",
    "#         tqdm_object.close()"
   ]
  },
  {
   "cell_type": "code",
   "execution_count": 3,
   "id": "0f4a8a6d-25e4-4bd5-8877-7a132827af9f",
   "metadata": {},
   "outputs": [],
   "source": [
    "FILE = \"mendseq.featurematrix.csv.pkl\"\n",
    "\n",
    "N_ESTIMATORS = list(range(100, 4001, 100))\n",
    "# N_ESTIMATORS[0] = 10\n",
    "REPS = 5"
   ]
  },
  {
   "cell_type": "code",
   "execution_count": 4,
   "id": "1e253450-658b-498b-8991-f23b636c5c83",
   "metadata": {},
   "outputs": [],
   "source": [
    "def sensitivity_at_specificity(y_true, y_score, target_specificity=0.98, pos_label=1):\n",
    "    n_trees, n_samples, n_classes = y_score.shape\n",
    "\n",
    "    # Compute nan-averaged y_score along the trees axis\n",
    "    y_score_avg = np.nanmean(y_score, axis=0)\n",
    "\n",
    "    # Extract true labels and nan-averaged predicted scores for the positive class\n",
    "    y_true = y_true.ravel()\n",
    "    y_score_binary = y_score_avg[:, 1]\n",
    "\n",
    "    # Identify rows with NaN values in y_score_binary\n",
    "    nan_rows = np.isnan(y_score_binary)\n",
    "\n",
    "    # Remove NaN rows from y_score_binary and y_true\n",
    "    y_score_binary = y_score_binary[~nan_rows]\n",
    "    y_true = y_true[~nan_rows]\n",
    "\n",
    "    # Compute ROC curve\n",
    "    fpr, tpr, thresholds = roc_curve(y_true, y_score_binary, pos_label=pos_label)\n",
    "\n",
    "    # Find the threshold corresponding to the target specificity\n",
    "    index = np.argmax(fpr >= (1 - target_specificity))\n",
    "    threshold_at_specificity = thresholds[index]\n",
    "\n",
    "    # Compute sensitivity at the chosen specificity\n",
    "    # sensitivity = tpr[index]\n",
    "    # return sensitivity\n",
    "\n",
    "    # Use the threshold to classify predictions\n",
    "    y_pred_at_specificity = (y_score_binary >= threshold_at_specificity).astype(int)\n",
    "\n",
    "    # Compute sensitivity at the chosen specificity\n",
    "    sensitivity = np.sum((y_pred_at_specificity == 1) & (y_true == 1)) / np.sum(\n",
    "        y_true == 1\n",
    "    )\n",
    "\n",
    "    return sensitivity"
   ]
  },
  {
   "cell_type": "code",
   "execution_count": 5,
   "id": "7429ee9d-966d-4ce3-ab2e-03318ab9c335",
   "metadata": {},
   "outputs": [
    {
     "data": {
      "text/plain": [
       "((1992, 1024), (1992,))"
      ]
     },
     "execution_count": 5,
     "metadata": {},
     "output_type": "execute_result"
    }
   ],
   "source": [
    "data = np.load(FILE, allow_pickle=True)\n",
    "columns_to_remove = [\n",
    "    \"Run\",\n",
    "    \"Sample\",\n",
    "    \"Library\",\n",
    "    \"Cancer Status\",\n",
    "    \"Tumor type\",\n",
    "    \"MAF\",\n",
    "    \"Stage\",\n",
    "    \"P7\",\n",
    "    \"P7 primer\",\n",
    "    \"P7 Primer\",\n",
    "    \"Library volume\",\n",
    "    \"Library Volume\",\n",
    "    \"UIDs Used\",\n",
    "    \"Avg GC\",\n",
    "    \"Library volume (uL)\",\n",
    "    \"Total Reads\",\n",
    "    \"Total Alu\",\n",
    "]\n",
    "y = data[\"Cancer Status\"].to_numpy()\n",
    "features = data.loc[:, ~data.columns.isin(columns_to_remove)].columns.tolist()\n",
    "X = data.loc[:, features].to_numpy()\n",
    "X = np.nan_to_num(X)\n",
    "X.shape, y.shape"
   ]
  },
  {
   "cell_type": "code",
   "execution_count": 6,
   "id": "7308b086-050b-4c5c-9634-f70ee5da77f5",
   "metadata": {
    "scrolled": true
   },
   "outputs": [],
   "source": [
    "# total_sas98s = []\n",
    "# for n_estimators in tqdm(N_ESTIMATORS, desc=\"Estimators\"):\n",
    "#     sas98s = []\n",
    "#     for reps in trange(REPS, desc=\"REPS\"):\n",
    "#         est = HonestForestClassifier(\n",
    "#             n_estimators=n_estimators,\n",
    "#             # random_state=seed,\n",
    "#             honest_fraction=0.5,\n",
    "#             n_jobs=-1,\n",
    "#             bootstrap=True,\n",
    "#             stratify=True,\n",
    "#             max_samples=1.6,\n",
    "#             # permute_per_tree=True,\n",
    "#         )\n",
    "        \n",
    "#         _, posterior_arr = build_hyppo_oob_forest(\n",
    "#             est,\n",
    "#             X,\n",
    "#             y,\n",
    "#             verbose=False,\n",
    "#         )\n",
    "#         sas98 = sensitivity_at_specificity(\n",
    "#             y, posterior_arr, target_specificity=0.98\n",
    "#         )\n",
    "#         sas98s.append(sas98)\n",
    "#     total_sas98s.append(sas98s)"
   ]
  },
  {
   "cell_type": "code",
   "execution_count": 7,
   "id": "ae342888-ed14-4dfa-a50d-e29358137315",
   "metadata": {},
   "outputs": [],
   "source": [
    "# np.array(total_sas98s)"
   ]
  },
  {
   "cell_type": "code",
   "execution_count": 8,
   "id": "62e12546-572d-4da4-8756-edba421dd69c",
   "metadata": {},
   "outputs": [],
   "source": [
    "# fig, ax = plt.subplots()\n",
    "# ax.plot(N_ESTIMATORS, np.var(total_sas98s, axis=1))\n",
    "# ax.set(\n",
    "#     xlabel=\"Number of Trees\",\n",
    "#     ylabel=\"Variance of S@98 Statistic\",\n",
    "#     title=\"Variance of S@98 Stat vs. Number of Trees\"\n",
    "# )\n",
    "# plt.show()"
   ]
  },
  {
   "cell_type": "code",
   "execution_count": 9,
   "id": "f3deb826-7e08-40a5-963b-4b4cb1f0a5e2",
   "metadata": {},
   "outputs": [],
   "source": [
    "# fig, ax = plt.subplots()\n",
    "# ax.plot(N_ESTIMATORS, np.mean(total_sas98s, axis=1))\n",
    "# ax.set(\n",
    "#     xlabel=\"Number of Trees\",\n",
    "#     ylabel=\"Mean of S@98 Statistic\",\n",
    "#     title=\"Mean of S@98 Stat vs. Number of Trees\"\n",
    "# )\n",
    "# plt.show()"
   ]
  },
  {
   "cell_type": "code",
   "execution_count": 10,
   "id": "d232ff3e-90bc-4288-9042-c1f48a3ecdca",
   "metadata": {},
   "outputs": [],
   "source": [
    "# total_sas98s = []\n",
    "# for seed in trange(10, desc=\"Reps S@98\"):\n",
    "#     est = HonestForestClassifier(\n",
    "#         n_estimators=N_ESTIMATORS[-1],\n",
    "#         random_state=seed,\n",
    "#         honest_fraction=0.5,\n",
    "#         n_jobs=-1,\n",
    "#         bootstrap=True,\n",
    "#         stratify=True,\n",
    "#         max_samples=1.6,\n",
    "#         # permute_per_tree=True,\n",
    "#     )\n",
    "#     _, posterior_arr = build_hyppo_oob_forest(\n",
    "#         est,\n",
    "#         X,\n",
    "#         y,\n",
    "#         verbose=False\n",
    "#     )\n",
    "\n",
    "#     sas98s = []\n",
    "#     for tree in N_ESTIMATORS:\n",
    "#         sas98 = sensitivity_at_specificity(\n",
    "#             y, posterior_arr[:tree, :, :], target_specificity=0.98\n",
    "#         )\n",
    "#         sas98s.append(sas98)\n",
    "#     total_sas98s.append(sas98s)"
   ]
  },
  {
   "cell_type": "code",
   "execution_count": 11,
   "id": "47099010-87a6-4f75-8b92-dcd6c6d603da",
   "metadata": {},
   "outputs": [],
   "source": [
    "# fig, ax = plt.subplots()\n",
    "# ax.plot(N_ESTIMATORS, np.var(total_sas98s, axis=0))\n",
    "# ax.set(\n",
    "#     xlabel=\"Number of Trees\",\n",
    "#     ylabel=\"Variance of S@98 Statistic\",\n",
    "#     title=\"Variance of S@98 Stat vs. Number of Trees\"\n",
    "# )\n",
    "# plt.show()"
   ]
  },
  {
   "cell_type": "code",
   "execution_count": 12,
   "id": "c8528322-2ba6-42de-b0b3-728f95530fce",
   "metadata": {},
   "outputs": [],
   "source": [
    "# fig, ax = plt.subplots()\n",
    "# ax.plot(N_ESTIMATORS, sas98s)\n",
    "# ax.set(\n",
    "#     xlabel=\"Number of Trees\",\n",
    "#     ylabel=\"Variance of S@98 Statistic\",\n",
    "#     title=\"Variance of S@98 Stat vs. Number of Trees\"\n",
    "# )\n",
    "# plt.show()"
   ]
  },
  {
   "cell_type": "code",
   "execution_count": 14,
   "id": "a1f0b709-50c3-4867-8382-a2a42b378bcb",
   "metadata": {},
   "outputs": [
    {
     "data": {
      "application/vnd.jupyter.widget-view+json": {
       "model_id": "4154ca4153484678a3f4ce786dfa85a1",
       "version_major": 2,
       "version_minor": 0
      },
      "text/plain": [
       "Reps Histogram S@98:   0%|          | 0/100 [00:00<?, ?it/s]"
      ]
     },
     "metadata": {},
     "output_type": "display_data"
    }
   ],
   "source": [
    "sas98s = []\n",
    "for seed in trange(100, desc=\"Reps Histogram S@98\"):\n",
    "    est = HonestForestClassifier(\n",
    "        n_estimators=1600,\n",
    "        random_state=seed,\n",
    "        honest_fraction=0.5,\n",
    "        n_jobs=-1,\n",
    "        bootstrap=True,\n",
    "        stratify=True,\n",
    "        max_samples=1.6,\n",
    "        # permute_per_tree=True,\n",
    "    )\n",
    "    _, posterior_arr = build_hyppo_oob_forest(\n",
    "        est,\n",
    "        X,\n",
    "        y,\n",
    "        verbose=False\n",
    "    )\n",
    "    sas98 = sensitivity_at_specificity(\n",
    "        y, posterior_arr, target_specificity=0.98\n",
    "    )\n",
    "    sas98s.append(sas98)"
   ]
  },
  {
   "cell_type": "code",
   "execution_count": 16,
   "id": "059f638a-37a9-40d7-8baf-7446a4ada64a",
   "metadata": {},
   "outputs": [
    {
     "data": {
      "image/png": "[encoded data removed]",
      "text/plain": [
       "<Figure size 640x480 with 1 Axes>"
      ]
     },
     "metadata": {},
     "output_type": "display_data"
    }
   ],
   "source": [
    "fig, ax = plt.subplots()\n",
    "ax.hist(sas98s)\n",
    "ax.set(\n",
    "    xlabel=\"S@98\",\n",
    "    ylabel=\"Counts\",\n",
    "    title=\"Histogram of S@98 for 1600 Trees\"\n",
    ")\n",
    "plt.show()"
   ]
  },
  {
   "cell_type": "code",
   "execution_count": 17,
   "id": "c0a8fe2b-1cd9-4585-aa92-02b8a38571a4",
   "metadata": {},
   "outputs": [
    {
     "data": {
      "application/vnd.jupyter.widget-view+json": {
       "model_id": "f61d81da66c440919b5169c874091016",
       "version_major": 2,
       "version_minor": 0
      },
      "text/plain": [
       "Reps Histogram S@98:   0%|          | 0/100 [00:00<?, ?it/s]"
      ]
     },
     "metadata": {},
     "output_type": "display_data"
    }
   ],
   "source": [
    "sas98s = []\n",
    "for seed in trange(100, desc=\"Reps Histogram S@98\"):\n",
    "    est = HonestForestClassifier(\n",
    "        n_estimators=4000,\n",
    "        random_state=seed,\n",
    "        honest_fraction=0.5,\n",
    "        n_jobs=-1,\n",
    "        bootstrap=True,\n",
    "        stratify=True,\n",
    "        max_samples=1.6,\n",
    "        # permute_per_tree=True,\n",
    "    )\n",
    "    _, posterior_arr = build_hyppo_oob_forest(\n",
    "        est,\n",
    "        X,\n",
    "        y,\n",
    "        verbose=False\n",
    "    )\n",
    "    sas98 = sensitivity_at_specificity(\n",
    "        y, posterior_arr, target_specificity=0.98\n",
    "    )\n",
    "    sas98s.append(sas98)"
   ]
  },
  {
   "cell_type": "code",
   "execution_count": 19,
   "id": "aec09315-5383-4363-a871-c962b85de95f",
   "metadata": {},
   "outputs": [
    {
     "data": {
      "image/png": "[encoded data removed]",
      "text/plain": [
       "<Figure size 640x480 with 1 Axes>"
      ]
     },
     "metadata": {},
     "output_type": "display_data"
    }
   ],
   "source": [
    "fig, ax = plt.subplots()\n",
    "ax.hist(sas98s)\n",
    "ax.set(\n",
    "    xlabel=\"S@98\",\n",
    "    ylabel=\"Counts\",\n",
    "    title=\"Histogram of S@98 for 4000 Trees\"\n",
    ")\n",
    "plt.show()"
   ]
  },
  {
   "cell_type": "code",
   "execution_count": null,
   "id": "849cf066-5b46-4aa9-be9d-0cc004c2b673",
   "metadata": {},
   "outputs": [],
   "source": []
  }
 ],
 "metadata": {
  "kernelspec": {
   "display_name": "Python 3 (ipykernel)",
   "language": "python",
   "name": "python3"
  },
  "language_info": {
   "codemirror_mode": {
    "name": "ipython",
    "version": 3
   },
   "file_extension": ".py",
   "mimetype": "text/x-python",
   "name": "python",
   "nbconvert_exporter": "python",
   "pygments_lexer": "ipython3",
   "version": "3.11.5"
  }
 },
 "nbformat": 4,
 "nbformat_minor": 5
}
