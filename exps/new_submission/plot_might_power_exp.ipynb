{
 "cells": [
  {
   "cell_type": "code",
   "execution_count": 1,
   "id": "9a819ed2-5be9-4184-81b9-724bcca106d5",
   "metadata": {},
   "outputs": [],
   "source": [
    "%load_ext autoreload\n",
    "%autoreload 2"
   ]
  },
  {
   "cell_type": "code",
   "execution_count": 12,
   "id": "6b4e5216-20c7-46bb-8ec5-924f9e5f6a25",
   "metadata": {},
   "outputs": [],
   "source": [
    "import math\n",
    "import os\n",
    "import sys\n",
    "from collections import defaultdict\n",
    "from pathlib import Path\n",
    "\n",
    "import matplotlib.pyplot as plt\n",
    "import numpy as np\n",
    "import pandas as pd\n",
    "import scipy\n",
    "import seaborn as sns\n",
    "from joblib import Parallel, delayed\n",
    "from scipy.integrate import nquad, quad, simps\n",
    "from scipy.stats import entropy, gamma, multivariate_normal, norm\n",
    "from sklearn import metrics\n",
    "from sklearn.metrics import roc_auc_score\n",
    "from sklearn.preprocessing import normalize\n",
    "from sktree.datasets import make_trunk_classification\n",
    "from sktree.ensemble import HonestForestClassifier\n",
    "from sktree.stats import FeatureImportanceForestClassifier, build_coleman_forest\n",
    "from sktree.tree import DecisionTreeClassifier"
   ]
  },
  {
   "cell_type": "code",
   "execution_count": 3,
   "id": "7e9a466c-5486-45ad-815b-c5b21cb8b9fd",
   "metadata": {},
   "outputs": [],
   "source": [
    "SIMULATIONS = {\n",
    "    \"1\": {},\n",
    "    \"2\": {\"m_factor\": 1},\n",
    "    \"3\": {\"band_type\": \"ar\", \"rho\": 0.5},\n",
    "    \"4\": {\"band_type\": \"ar\", \"m_factor\": 1, \"rho\": 0.5},\n",
    "}"
   ]
  },
  {
   "cell_type": "code",
   "execution_count": 6,
   "id": "831dca01-174a-46c9-a494-e559d37c3483",
   "metadata": {},
   "outputs": [],
   "source": [
    "n_estimators = 500\n",
    "seed = 1234\n",
    "n_jobs = -1\n",
    "\n",
    "n_jobs_trees = 1"
   ]
  },
  {
   "cell_type": "code",
   "execution_count": 17,
   "id": "f10eaf91-7c79-4d55-a07d-ce72991f1020",
   "metadata": {},
   "outputs": [],
   "source": [
    "NON_OOB_MODEL_NAMES = {\n",
    "    \"might-honestfraction05-ogv2\": {\n",
    "        \"n_estimators\": 500,\n",
    "        \"random_state\": seed,\n",
    "        \"honest_fraction\": 0.5,\n",
    "        \"n_jobs\": n_jobs_trees,\n",
    "        \"bootstrap\": False,\n",
    "        \"stratify\": True,\n",
    "        # \"max_samples\": ,\n",
    "        \"permute_per_tree\": False,\n",
    "    },\n",
    "}\n",
    "\n",
    "OOB_MODEL_NAMES = {\n",
    "    \"might-honestfraction05-bootstrap-permuteonce\": {\n",
    "        \"n_estimators\": n_estimators,\n",
    "        \"random_state\": seed,\n",
    "        \"honest_fraction\": 0.5,\n",
    "        \"n_jobs\": n_jobs_trees,\n",
    "        \"bootstrap\": True,\n",
    "        \"stratify\": True,\n",
    "        \"max_samples\": 1.6,\n",
    "        \"permute_per_tree\": False,\n",
    "    },\n",
    "    # \"might-honestfraction05-bootstrap\": {\n",
    "    #     \"n_estimators\": n_estimators,\n",
    "    #     \"random_state\": seed,\n",
    "    #     \"honest_fraction\": 0.5,\n",
    "    #     \"n_jobs\": n_jobs_trees,\n",
    "    #     \"bootstrap\": True,\n",
    "    #     \"stratify\": True,\n",
    "    #     \"max_samples\": 1.6,\n",
    "    #     \"permute_per_tree\": True,\n",
    "    # },\n",
    "    # \"might-honestfraction025-bootstrap\": {\n",
    "    #     \"n_estimators\": n_estimators,\n",
    "    #     \"random_state\": seed,\n",
    "    #     \"honest_fraction\": 0.25,\n",
    "    #     \"n_jobs\": n_jobs_trees,\n",
    "    #     \"bootstrap\": True,\n",
    "    #     \"stratify\": True,\n",
    "    #     \"max_samples\": 1.6,\n",
    "    #     \"permute_per_tree\": True,\n",
    "    # },\n",
    "    # \"might-honestfraction075-bootstrap\": {\n",
    "    #     \"n_estimators\": n_estimators,\n",
    "    #     \"random_state\": seed,\n",
    "    #     \"honest_fraction\": 0.75,\n",
    "    #     \"n_jobs\": n_jobs_trees,\n",
    "    #     \"bootstrap\": True,\n",
    "    #     \"stratify\": True,\n",
    "    #     \"max_samples\": 1.6,\n",
    "    #     \"permute_per_tree\": True,\n",
    "    # },\n",
    "}"
   ]
  },
  {
   "cell_type": "code",
   "execution_count": 21,
   "id": "da7f4c58-4b00-446a-be8c-aeb7c43942e2",
   "metadata": {},
   "outputs": [
    {
     "name": "stdout",
     "output_type": "stream",
     "text": [
      "[256, 512, 1024, 2048]\n"
     ]
    }
   ],
   "source": [
    "SAMP_SIZES = [2**i for i in range(8, 12)]\n",
    "SAMP_SIZES_plot = [2 * 2**i for i in range(8, 10)]\n",
    "DIM = 4**6\n",
    "REPS = range(100, 1000)\n",
    "P = 4096\n",
    "# SAVE_PATH = \"/Volumes/Extreme Pro/cancer/output/power_exp/might-honestfraction05-bootstrap-maxsamples16-permutepertree\"\n",
    "SAVE_PATH = \"/Volumes/Extreme Pro/cancer/output/power_exp/\"\n",
    "print(SAMP_SIZES)\n",
    "n_repeats = 100\n",
    "\n",
    "SIM_TYPES = [\"trunk\", \"trunk-overlap\"]"
   ]
  },
  {
   "cell_type": "code",
   "execution_count": 29,
   "id": "efc37871-4ccd-4c84-98e6-bba4e5fe263e",
   "metadata": {},
   "outputs": [],
   "source": [
    "# fig, ax = plt.subplots(nrows=1, ncols=3, figsize=(28, 14))\n",
    "results = defaultdict(list)\n",
    "n_dims = 4096\n",
    "\n",
    "for model_name in NON_OOB_MODEL_NAMES.keys():\n",
    "    for sim_name in SIM_TYPES:\n",
    "        for n_samples in SAMP_SIZES:\n",
    "            for idx in range(n_repeats):\n",
    "                file_name = (\n",
    "                    Path(SAVE_PATH)\n",
    "                    / model_name\n",
    "                    / sim_name\n",
    "                    / f\"might_{sim_name}_{n_samples}_{n_dims}_{idx}.npz\"\n",
    "                )\n",
    "\n",
    "                data = np.load(file_name)\n",
    "                # print(dict(data).keys())\n",
    "                pval = data[\"might_pvalue\"]\n",
    "\n",
    "                results[\"pvalue\"].append(pval)\n",
    "                results[\"n_samples\"].append(n_samples)\n",
    "                # results['n_dims'].append(n_dims)\n",
    "                results[\"sim_name\"].append(sim_name)\n",
    "                results[\"model\"].append(model_name)\n",
    "                results[\"idx\"].append(idx)"
   ]
  },
  {
   "cell_type": "code",
   "execution_count": 43,
   "id": "c7c8d780-81df-41f7-8fec-c0f02f630039",
   "metadata": {},
   "outputs": [
    {
     "name": "stdout",
     "output_type": "stream",
     "text": [
      "(800, 5)\n"
     ]
    }
   ],
   "source": [
    "df = pd.DataFrame(results)\n",
    "\n",
    "print(df.shape)"
   ]
  },
  {
   "cell_type": "code",
   "execution_count": 44,
   "id": "96108a74-b672-4d18-b330-72066b3ec6c7",
   "metadata": {},
   "outputs": [
    {
     "data": {
      "text/html": [
       "<div>\n",
       "<style scoped>\n",
       "    .dataframe tbody tr th:only-of-type {\n",
       "        vertical-align: middle;\n",
       "    }\n",
       "\n",
       "    .dataframe tbody tr th {\n",
       "        vertical-align: top;\n",
       "    }\n",
       "\n",
       "    .dataframe thead th {\n",
       "        text-align: right;\n",
       "    }\n",
       "</style>\n",
       "<table border=\"1\" class=\"dataframe\">\n",
       "  <thead>\n",
       "    <tr style=\"text-align: right;\">\n",
       "      <th></th>\n",
       "      <th></th>\n",
       "      <th>pvalue</th>\n",
       "      <th>pval_std</th>\n",
       "    </tr>\n",
       "    <tr>\n",
       "      <th>n_samples</th>\n",
       "      <th>model</th>\n",
       "      <th></th>\n",
       "      <th></th>\n",
       "    </tr>\n",
       "  </thead>\n",
       "  <tbody>\n",
       "    <tr>\n",
       "      <th>256</th>\n",
       "      <th>might-honestfraction05-ogv2</th>\n",
       "      <td>0.0</td>\n",
       "      <td>0.0</td>\n",
       "    </tr>\n",
       "    <tr>\n",
       "      <th>512</th>\n",
       "      <th>might-honestfraction05-ogv2</th>\n",
       "      <td>0.0</td>\n",
       "      <td>0.0</td>\n",
       "    </tr>\n",
       "    <tr>\n",
       "      <th>1024</th>\n",
       "      <th>might-honestfraction05-ogv2</th>\n",
       "      <td>0.0</td>\n",
       "      <td>0.0</td>\n",
       "    </tr>\n",
       "    <tr>\n",
       "      <th>2048</th>\n",
       "      <th>might-honestfraction05-ogv2</th>\n",
       "      <td>0.0</td>\n",
       "      <td>0.0</td>\n",
       "    </tr>\n",
       "  </tbody>\n",
       "</table>\n",
       "</div>"
      ],
      "text/plain": [
       "                                       pvalue  pval_std\n",
       "n_samples model                                        \n",
       "256       might-honestfraction05-ogv2     0.0       0.0\n",
       "512       might-honestfraction05-ogv2     0.0       0.0\n",
       "1024      might-honestfraction05-ogv2     0.0       0.0\n",
       "2048      might-honestfraction05-ogv2     0.0       0.0"
      ]
     },
     "metadata": {},
     "output_type": "display_data"
    }
   ],
   "source": [
    "df = df[df['sim_name'] == 'trunk']\n",
    "df[\"pvalue\"] = df[\"pvalue\"] < 0.05\n",
    "\n",
    "# empirical_power = (1 + (df[\"pvalue\"] <= 0.05).sum()) / (1 + len(df[\"pvalue\"]))\n",
    "# print(empirical_power)\n",
    "\n",
    "df = df.groupby([\"n_samples\", \"model\"])[\"pvalue\"].agg([\"mean\", \"std\"])\n",
    "df.columns = df.columns.map({\"mean\": \"pvalue\", \"std\": \"pval_std\"})\n",
    "\n",
    "display(df.head())"
   ]
  },
  {
   "cell_type": "code",
   "execution_count": 45,
   "id": "e988d0e5-17b0-4e8b-be07-c75dbaae4a77",
   "metadata": {},
   "outputs": [
    {
     "data": {
      "image/png": "[encoded data removed]",
      "text/plain": [
       "<Figure size 640x480 with 1 Axes>"
      ]
     },
     "metadata": {},
     "output_type": "display_data"
    }
   ],
   "source": [
    "sns.set_context(\"paper\", font_scale=2.5)\n",
    "fig, ax = plt.subplots()\n",
    "\n",
    "# palette = {\"MIGHT\": \"red\", \"SVM\": \"orange\", \"kNN\": \"green\", \"LR\": \"blue\"}\n",
    "\n",
    "ax = sns.lineplot(\n",
    "    data=df,\n",
    "    # x=\"n_features_2\",\n",
    "    x=\"n_samples\",\n",
    "    y=\"pvalue\",\n",
    "    marker=\"o\",\n",
    "    hue=\"model\",\n",
    "    ax=ax,\n",
    "    # palette=palette,\n",
    "    errorbar=\"ci\",\n",
    ")\n",
    "\n",
    "ax.set_ylabel(\"Power for 4096\\n Total Variables\")\n",
    "ax.set_xlabel(\"Sample Size\")\n",
    "ax.set(\n",
    "    ylim=(-0.02, 1.02),\n",
    "    # ylim=[0.5, 1],\n",
    "    yticks=[0, 1],\n",
    ")\n",
    "sns.despine(right=True, ax=ax)\n",
    "ax.axhline([0.05], color=\"black\", ls=\"--\", label=\"alpha\")\n",
    "ax.set_xscale(\"log\")\n",
    "# ax.set_ylabel(None)\n",
    "ax.legend()\n",
    "sns.move_legend(ax, \"upper left\", bbox_to_anchor=(1, 1))\n",
    "plt.show()"
   ]
  },
  {
   "cell_type": "code",
   "execution_count": 239,
   "id": "5de5b59c-f384-4b4e-9bc0-5cbeb0c08851",
   "metadata": {},
   "outputs": [
    {
     "name": "stdout",
     "output_type": "stream",
     "text": [
      "[0.06965174129353234, 0.06965174129353234, 0.06467661691542288, 0.05970149253731343]\n"
     ]
    }
   ],
   "source": [
    "print(power_MIGHT)"
   ]
  },
  {
   "cell_type": "code",
   "execution_count": null,
   "id": "6ea2cb88-f966-4d70-8eb3-6d357af83182",
   "metadata": {},
   "outputs": [],
   "source": []
  }
 ],
 "metadata": {
  "kernelspec": {
   "display_name": "sktree",
   "language": "python",
   "name": "sktree"
  },
  "language_info": {
   "codemirror_mode": {
    "name": "ipython",
    "version": 3
   },
   "file_extension": ".py",
   "mimetype": "text/x-python",
   "name": "python",
   "nbconvert_exporter": "python",
   "pygments_lexer": "ipython3",
   "version": "3.9.18"
  }
 },
 "nbformat": 4,
 "nbformat_minor": 5
}
