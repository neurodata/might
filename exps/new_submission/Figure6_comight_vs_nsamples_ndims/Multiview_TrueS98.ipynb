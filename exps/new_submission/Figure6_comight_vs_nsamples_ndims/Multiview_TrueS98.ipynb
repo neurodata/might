{
 "cells": [
  {
   "cell_type": "code",
   "execution_count": 1,
   "metadata": {},
   "outputs": [],
   "source": [
    "import sys, os\n",
    "from joblib import Parallel, delayed\n",
    "import numpy as np\n",
    "import matplotlib.pyplot as plt\n",
    "import math\n",
    "import scipy\n",
    "from scipy.integrate import quad, nquad\n",
    "from sklearn.preprocessing import normalize\n",
    "from sktree.tree import DecisionTreeClassifier\n",
    "from sktree.ensemble import HonestForestClassifier\n",
    "from sktree.stats import FeatureImportanceForestClassifier\n",
    "from sklearn.metrics import roc_auc_score\n",
    "from scipy.stats import entropy\n",
    "\n",
    "import numpy as np\n",
    "from scipy.stats import norm\n",
    "from scipy.stats import multivariate_normal\n",
    "from scipy.integrate import simps\n",
    "from scipy.stats import entropy\n",
    "from scipy.stats import gamma\n",
    "from sklearn import metrics\n",
    "from sktree.datasets import make_trunk_classification, make_trunk_mixture_classification"
   ]
  },
  {
   "cell_type": "markdown",
   "metadata": {},
   "source": [
    "## Mean-Shift"
   ]
  },
  {
   "cell_type": "code",
   "execution_count": 16,
   "metadata": {},
   "outputs": [],
   "source": [
    "def true_s98_mean_shift(mu0,mu1,sig):\n",
    "    n = 5000000\n",
    "    p = sig.shape[0]\n",
    "    p_class0 = p_class1 = 0.5\n",
    "    pdf_class0 = multivariate_normal(mean = mu0, cov = sig,allow_singular=True)\n",
    "    pdf_class1 = multivariate_normal(mean = mu1, cov = sig,allow_singular=True)\n",
    "\n",
    "    x_0 = pdf_class0.rvs(size = n).reshape((n,p))\n",
    "    x_1 = pdf_class1.rvs(size = n).reshape((n,p))\n",
    "    x = np.vstack((x_0,x_1))\n",
    "    # print(x.shape)\n",
    "    y = [0]*n+[1]*n\n",
    "\n",
    "    p_x_given_class0 = np.nan_to_num(pdf_class0.pdf(x))\n",
    "    p_x_given_class1 = np.nan_to_num(pdf_class1.pdf(x))\n",
    "\n",
    "    p_x = p_x_given_class0*p_class0 + p_x_given_class1*p_class1\n",
    "    # pos_class0 = p_x_given_class0*p_class0/p_x\n",
    "\n",
    "    pos_class0 = (np.array([p_x_given_class0[i]*p_class0/p_x[i] if p_x[i] != 0 else 0 for i in range(p_x.shape[0])]).reshape(-1,1))\n",
    "    pos_class1 = np.ones(pos_class0.shape) - pos_class0\n",
    "    posterior = np.hstack((pos_class0.reshape(-1,1),pos_class1.reshape(-1,1)))\n",
    "\n",
    "    fpr, tpr, thresholds = metrics.roc_curve(y, posterior[:,1], pos_label=1,drop_intermediate = False)\n",
    "    s98 = np.max(tpr[fpr<=0.02])\n",
    "    # print(\"S@98 \" + str(s98))\n",
    "    return s98\n",
    "\n"
   ]
  },
  {
   "cell_type": "code",
   "execution_count": 5,
   "metadata": {},
   "outputs": [],
   "source": [
    "def _moving_avg_cov(n_dim, rho):\n",
    "    # Create a meshgrid of indices\n",
    "    i, j = np.meshgrid(np.arange(1, n_dim + 1), np.arange(1, n_dim + 1), indexing=\"ij\")\n",
    "\n",
    "    # Calculate the covariance matrix using the corrected formula\n",
    "    cov_matrix = rho ** np.abs(i - j)\n",
    "\n",
    "    # Apply the banding condition\n",
    "    cov_matrix[abs(i - j) > 1] = 0\n",
    "    return cov_matrix"
   ]
  },
  {
   "cell_type": "code",
   "execution_count": 23,
   "metadata": {},
   "outputs": [
    {
     "name": "stdout",
     "output_type": "stream",
     "text": [
      "[array([0., 0.]), array([1.        , 0.70710678])]\n",
      "[array([[1. , 0.5],\n",
      "       [0.5, 1. ]]), array([[1. , 0.5],\n",
      "       [0.5, 1. ]])]\n"
     ]
    }
   ],
   "source": [
    "X, y, means, cov = make_trunk_classification(\n",
    "        n_samples=100000,\n",
    "        n_dim=1 + 1,\n",
    "        n_informative=2,\n",
    "        mu_0=0,\n",
    "        mu_1=1,\n",
    "        return_params=True,\n",
    "        rho=0.5,\n",
    "        # seed=seed,\n",
    "    )\n",
    "print(means)\n",
    "print(cov)\n"
   ]
  },
  {
   "cell_type": "code",
   "execution_count": 24,
   "metadata": {},
   "outputs": [
    {
     "name": "stdout",
     "output_type": "stream",
     "text": [
      "[[1.  0.5]\n",
      " [0.5 1. ]]\n",
      "View 1 + View 2: 0.153308\n",
      "View 1: 0.0890762\n",
      "View 2: 0.1459994\n"
     ]
    }
   ],
   "source": [
    "mu_1 = np.array([1 / np.sqrt(i) for i in range(1, 3)])\n",
    "mu_0 = np.array([0 / np.sqrt(i) for i in range(1, 3)])\n",
    "sig = _moving_avg_cov(2, 0.5)\n",
    "print(sig)\n",
    "\n",
    "### Together\n",
    "print(\"View 1 + View 2: \" + str(true_s98_mean_shift(mu_0,mu_1,sig)))\n",
    "\n",
    "### View 1\n",
    "print(\"View 1: \" + str(true_s98_mean_shift(mu_0[1],mu_1[1],np.identity(1))))\n",
    "\n",
    "###  View 2\n",
    "print(\"View 2: \" + str(true_s98_mean_shift(mu_0[0],mu_1[0],np.identity(1))))"
   ]
  },
  {
   "cell_type": "markdown",
   "metadata": {},
   "source": [
    "## Multi_Modal"
   ]
  },
  {
   "cell_type": "code",
   "execution_count": 2,
   "metadata": {},
   "outputs": [],
   "source": [
    "def true_s98_multi_modal(mu0,mu1,sig0,sig1,p0= [0.5,0.5],p1=[0.5,0.5]):\n",
    "    n = 5000000\n",
    "    p_class0 = p_class1 = 0.5\n",
    "    p = len(mu0[0])\n",
    "\n",
    "    pdf_class0_1 = multivariate_normal(mean = mu0[0], cov = sig0[0],allow_singular=True)\n",
    "    pdf_class0_2 = multivariate_normal(mean = mu0[1], cov = sig0[1],allow_singular=True)\n",
    "    pdf_class1_1 = multivariate_normal(mean = mu1[0], cov = sig1[0],allow_singular=True)\n",
    "    pdf_class1_2 = multivariate_normal(mean = mu1[1], cov = sig1[1],allow_singular=True)\n",
    "\n",
    "    # print(pdf_class0_1.rvs(size = int(n*p0[0])).shape)\n",
    "    x_0_1 = pdf_class0_1.rvs(size = int(n*p0[0])).reshape((int(n*p0[0]),p))\n",
    "    x_0_2 = pdf_class0_2.rvs(size = int(n*p0[1])).reshape((int(n*p0[1]),p))\n",
    "    x_1_1 = pdf_class1_1.rvs(size = int(n*p1[0])).reshape((int(n*p1[0]),p))\n",
    "    x_1_2 = pdf_class1_2.rvs(size = int(n*p1[1])).reshape((int(n*p1[1]),p))\n",
    "    x = np.vstack((x_0_1,x_0_2,x_1_1,x_1_2))\n",
    "    # print(x.shape)\n",
    "    y = [0]*n+[1]*n\n",
    "\n",
    "    p_x_given_class0_1 = np.nan_to_num(pdf_class0_1.pdf(x))\n",
    "    p_x_given_class0_2 = np.nan_to_num(pdf_class0_2.pdf(x))\n",
    "    p_x_given_class1_1 = np.nan_to_num(pdf_class1_1.pdf(x))\n",
    "    p_x_given_class1_2 = np.nan_to_num(pdf_class1_2.pdf(x))\n",
    "\n",
    "    p_x_given_class0 = p0[0]*p_x_given_class0_1+p0[1]*p_x_given_class0_2\n",
    "    p_x_given_class1 = p1[0]*p_x_given_class1_1+p1[1]*p_x_given_class1_2\n",
    "\n",
    "\n",
    "\n",
    "    p_x = p_x_given_class0*p_class0 + p_x_given_class1*p_class1\n",
    "    # pos_class0 = p_x_given_class0*p_class0/p_x\n",
    "\n",
    "    pos_class0 = (np.array([p_x_given_class0[i]*p_class0/p_x[i] if p_x[i] != 0 else 0 for i in range(p_x.shape[0])]).reshape(-1,1))\n",
    "    pos_class1 = np.ones(pos_class0.shape) - pos_class0\n",
    "    posterior = np.hstack((pos_class0.reshape(-1,1),pos_class1.reshape(-1,1)))\n",
    "\n",
    "    fpr, tpr, thresholds = metrics.roc_curve(y, posterior[:,1], pos_label=1,drop_intermediate = False)\n",
    "    if len(tpr) == len(fpr) == 2:\n",
    "        s98 = 0.02\n",
    "    else:\n",
    "        s98 = np.max(tpr[fpr<=0.02])\n",
    "    # print(\"S@98 \" + str(s98))\n",
    "    return s98\n",
    "\n"
   ]
  },
  {
   "cell_type": "code",
   "execution_count": 3,
   "metadata": {},
   "outputs": [
    {
     "name": "stdout",
     "output_type": "stream",
     "text": [
      "(array([0., 0.]), array([5.        , 3.53553391]))\n",
      "(array([[1. , 0.5],\n",
      "       [0.5, 1. ]]), array([[1. , 0.5],\n",
      "       [0.5, 1. ]]))\n"
     ]
    }
   ],
   "source": [
    "X, y, means, covs, X_mixture = make_trunk_mixture_classification(\n",
    "        n_samples=100000,\n",
    "        n_dim=1 + 1,\n",
    "        n_informative=2,\n",
    "        mu_0=0,\n",
    "        mu_1=5,\n",
    "        mix=0.75,\n",
    "        # scaling_factor=1,\n",
    "        # seed=seed,\n",
    "        rho=0.5,\n",
    "        return_params=True,\n",
    "    )\n",
    "print(means)\n",
    "print(covs)"
   ]
  },
  {
   "cell_type": "code",
   "execution_count": 6,
   "metadata": {},
   "outputs": [
    {
     "name": "stdout",
     "output_type": "stream",
     "text": [
      "[array([[1. , 0.5],\n",
      "       [0.5, 1. ]]), array([[1. , 0.5],\n",
      "       [0.5, 1. ]])]\n",
      "View 1 + View 2: 0.264652\n",
      "View 1: 0.2475764\n",
      "View 2: 0.264663\n"
     ]
    }
   ],
   "source": [
    "## View 1 + View 2\n",
    "mu_0 = [[0,0],[0,0]]\n",
    "mu_1 = [[0,0],[5,5/np.sqrt(2)]]\n",
    "sig = _moving_avg_cov(2, 0.5)\n",
    "sig_0 = [sig ,sig]\n",
    "print(sig_0)\n",
    "sig_1 = [sig ,sig]\n",
    "print(\"View 1 + View 2: \" + str(true_s98_multi_modal(mu_0,mu_1,sig_0,sig_1,p0= [0.75,0.25],p1=[0.75,0.25])))\n",
    "\n",
    "## View 1 \n",
    "mu_0 = [[0],[0]]\n",
    "mu_1 = [[0],[5/np.sqrt(2)]]\n",
    "sig_0 = [np.identity(1),np.identity(1) ]\n",
    "sig_1 = [np.identity(1),np.identity(1) ]\n",
    "print(\"View 1: \" + str(true_s98_multi_modal(mu_0,mu_1,sig_0,sig_1,p0= [0.75,0.25],p1=[0.75,0.25])))\n",
    "\n",
    "\n",
    "## View 2\n",
    "mu_0 = [[0],[0]]\n",
    "mu_1 = [[0],[5]]\n",
    "sig_0 =[np.identity(1),np.identity(1) ]\n",
    "\n",
    "sig_1 = [np.identity(1),np.identity(1) ]\n",
    "print(\"View 2: \" + str(true_s98_multi_modal(mu_0,mu_1,sig_0,sig_1,p0= [0.75,0.25],p1=[0.75,0.25])))"
   ]
  },
  {
   "cell_type": "markdown",
   "metadata": {},
   "source": [
    "## Multi_Equal"
   ]
  },
  {
   "cell_type": "code",
   "execution_count": 7,
   "metadata": {},
   "outputs": [
    {
     "name": "stdout",
     "output_type": "stream",
     "text": [
      "View 1 + View 2: 0.02\n",
      "View 1: 0.02\n",
      "View 2: 0.02\n"
     ]
    }
   ],
   "source": [
    "## View 1 + View 2\n",
    "mu_0 = [[0,0],[5,5/np.sqrt(2)]]\n",
    "mu_1 = [[0,0],[5,5/np.sqrt(2)]]\n",
    "sig = _moving_avg_cov(2, 0.5)\n",
    "sig_0 = [sig,sig]\n",
    "sig_1 = [sig,sig]\n",
    "print(\"View 1 + View 2: \" + str(true_s98_multi_modal(mu_0,mu_1,sig_0,sig_1,p0= [0.75,0.25],p1=[0.75,0.25])))\n",
    "\n",
    "## View 1 \n",
    "mu_0 = [[0],[5/np.sqrt(2)]]\n",
    "mu_1 = [[0],[5/np.sqrt(2)]]\n",
    "sig_0 = [np.identity(1),np.identity(1) ]\n",
    "sig_1 = [np.identity(1),np.identity(1) ]\n",
    "print(\"View 1: \" + str(true_s98_multi_modal(mu_0,mu_1,sig_0,sig_1,p0= [0.75,0.25],p1=[0.75,0.25])))\n",
    "\n",
    "\n",
    "## View 2\n",
    "mu_0 = [[0],[5]]\n",
    "mu_1 = [[0],[5]]\n",
    "sig_0 = [np.identity(1),np.identity(1) ]\n",
    "sig_1 = [np.identity(1),np.identity(1) ]\n",
    "print(\"View 2: \" + str(true_s98_multi_modal(mu_0,mu_1,sig_0,sig_1,p0= [0.75,0.25],p1=[0.75,0.25])))"
   ]
  }
 ],
 "metadata": {
  "kernelspec": {
   "display_name": "cancer",
   "language": "python",
   "name": "python3"
  },
  "language_info": {
   "codemirror_mode": {
    "name": "ipython",
    "version": 3
   },
   "file_extension": ".py",
   "mimetype": "text/x-python",
   "name": "python",
   "nbconvert_exporter": "python",
   "pygments_lexer": "ipython3",
   "version": "3.9.6"
  }
 },
 "nbformat": 4,
 "nbformat_minor": 2
}
