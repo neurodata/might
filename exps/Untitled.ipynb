{
 "cells": [
  {
   "cell_type": "code",
   "execution_count": 1,
   "id": "9a819ed2-5be9-4184-81b9-724bcca106d5",
   "metadata": {},
   "outputs": [],
   "source": [
    "%load_ext autoreload\n",
    "%autoreload 2"
   ]
  },
  {
   "cell_type": "code",
   "execution_count": 2,
   "id": "6b4e5216-20c7-46bb-8ec5-924f9e5f6a25",
   "metadata": {},
   "outputs": [],
   "source": [
    "import math\n",
    "import os\n",
    "import sys\n",
    "\n",
    "import matplotlib.pyplot as plt\n",
    "import numpy as np\n",
    "import pandas as pd\n",
    "import scipy\n",
    "import seaborn as sns\n",
    "from joblib import Parallel, delayed\n",
    "from scipy.integrate import nquad, quad, simps\n",
    "from scipy.stats import entropy, gamma, multivariate_normal, norm\n",
    "from sklearn import metrics\n",
    "from sklearn.metrics import roc_auc_score\n",
    "from sklearn.preprocessing import normalize\n",
    "from sktree.datasets import make_trunk_classification\n",
    "from sktree.ensemble import HonestForestClassifier\n",
    "from sktree.stats import FeatureImportanceForestClassifier, build_coleman_forest\n",
    "from sktree.tree import DecisionTreeClassifier"
   ]
  },
  {
   "cell_type": "code",
   "execution_count": 97,
   "id": "7e9a466c-5486-45ad-815b-c5b21cb8b9fd",
   "metadata": {},
   "outputs": [],
   "source": [
    "SIMULATIONS = {\n",
    "    \"1\": {},\n",
    "    \"2\": {\"m_factor\": 1},\n",
    "    \"3\": {\"band_type\": \"ar\", \"rho\": 0.5},\n",
    "    \"4\": {\"band_type\": \"ar\", \"m_factor\": 1, \"rho\": 0.5},\n",
    "}"
   ]
  },
  {
   "cell_type": "code",
   "execution_count": 102,
   "id": "831dca01-174a-46c9-a494-e559d37c3483",
   "metadata": {},
   "outputs": [],
   "source": [
    "n_estimators = 500\n",
    "seed = 1234\n",
    "n_jobs = -1"
   ]
  },
  {
   "cell_type": "code",
   "execution_count": 103,
   "id": "f10eaf91-7c79-4d55-a07d-ce72991f1020",
   "metadata": {},
   "outputs": [],
   "source": [
    "MODEL_NAMES = {\n",
    "    # \"might-honestfraction05-bootstrap-x5\": {\n",
    "    #     \"n_estimators\": n_estimators,\n",
    "    #     \"random_state\": seed,\n",
    "    #     \"honest_fraction\": 0.5,\n",
    "    #     \"n_jobs\": n_jobs,\n",
    "    #     \"bootstrap\": False,\n",
    "    #     \"stratify\": True,\n",
    "    # },\n",
    "    # \"might-honestfraction05-bootstrap-maxsamples127\": {\n",
    "    #     \"n_estimators\": n_estimators,\n",
    "    #     \"random_state\": seed,\n",
    "    #     \"honest_fraction\": 0.5,\n",
    "    #     \"n_jobs\": n_jobs,\n",
    "    #     \"bootstrap\": True,\n",
    "    #     \"stratify\": True,\n",
    "    #     \"max_samples\": 1.27,\n",
    "    # },\n",
    "    \"might-honestfraction05-bootstrap-maxsamples16\": {\n",
    "        \"n_estimators\": n_estimators,\n",
    "        \"random_state\": seed,\n",
    "        \"honest_fraction\": 0.5,\n",
    "        \"n_jobs\": n_jobs,\n",
    "        \"bootstrap\": True,\n",
    "        \"stratify\": True,\n",
    "        \"max_samples\": 1.6,\n",
    "        \"permute_per_tree\": False,\n",
    "        \"n_jobs\": -1,\n",
    "    },\n",
    "    \"might-honestfraction05-bootstrap-maxsamples16-permutepertree\": {\n",
    "        \"n_estimators\": n_estimators,\n",
    "        \"random_state\": seed,\n",
    "        \"honest_fraction\": 0.5,\n",
    "        \"n_jobs\": n_jobs,\n",
    "        \"bootstrap\": True,\n",
    "        \"stratify\": True,\n",
    "        \"max_samples\": 1.6,\n",
    "        \"permute_per_tree\": True,\n",
    "        \"n_jobs\": -1,\n",
    "    },\n",
    "    # \"might-honestfraction05-bootstrap-maxsamples16\": {\n",
    "    #     \"n_estimators\": n_estimators,\n",
    "    #     \"random_state\": seed,\n",
    "    #     \"honest_fraction\": 0.5,\n",
    "    #     \"n_jobs\": n_jobs,\n",
    "    #     \"bootstrap\": True,\n",
    "    #     \"stratify\": True,\n",
    "    #     \"max_samples\": 1.6,\n",
    "    # },\n",
    "    # \"might-honestfraction025-bootstrap\": {\n",
    "    #     \"n_estimators\": n_estimators,\n",
    "    #     \"random_state\": seed,\n",
    "    #     \"honest_fraction\": 0.25,\n",
    "    #     \"n_jobs\": n_jobs,\n",
    "    #     \"bootstrap\": True,\n",
    "    #     \"stratify\": True,\n",
    "    # },\n",
    "    # \"might-honestfraction075-bootstrap\": {\n",
    "    #     \"n_estimators\": n_estimators,\n",
    "    #     \"random_state\": seed,\n",
    "    #     \"honest_fraction\": 0.75,\n",
    "    #     \"n_jobs\": n_jobs,\n",
    "    #     \"bootstrap\": True,\n",
    "    #     \"stratify\": True,\n",
    "    # },\n",
    "    # \"might-honestfraction05-honestbootstrap\": {\n",
    "    #     \"n_estimators\": n_estimators,\n",
    "    #     \"random_state\": seed,\n",
    "    #     \"honest_fraction\": 0.5,\n",
    "    #     \"n_jobs\": n_jobs,\n",
    "    #     \"bootstrap\": True,\n",
    "    #     \"stratify\": True,\n",
    "    #     \"honest_bootstrap\": True,\n",
    "    # },\n",
    "}"
   ]
  },
  {
   "cell_type": "code",
   "execution_count": 237,
   "id": "da7f4c58-4b00-446a-be8c-aeb7c43942e2",
   "metadata": {},
   "outputs": [
    {
     "name": "stdout",
     "output_type": "stream",
     "text": [
      "[256, 512, 1024, 2048]\n"
     ]
    }
   ],
   "source": [
    "SAMP_SIZES = [2**i for i in range(8, 12)]\n",
    "SAMP_SIZES_plot = [2 * 2**i for i in range(8, 10)]\n",
    "DIM = 4**6\n",
    "REPS = range(100, 1000)\n",
    "P = 4096\n",
    "# SAVE_PATH = \"/Volumes/Extreme Pro/cancer/output/power_exp/might-honestfraction05-bootstrap-maxsamples16-permutepertree\"\n",
    "SAVE_PATH = \"/Volumes/Extreme Pro/cancer/output/power_exp/might-honestfraction05-bootstrap-maxsamples16\"\n",
    "print(SAMP_SIZES)\n",
    "n_repeats = 200"
   ]
  },
  {
   "cell_type": "code",
   "execution_count": 238,
   "id": "efc37871-4ccd-4c84-98e6-bba4e5fe263e",
   "metadata": {},
   "outputs": [
    {
     "data": {
      "image/png": "[encoded data removed]",
      "text/plain": [
       "<Figure size 1500x500 with 1 Axes>"
      ]
     },
     "metadata": {},
     "output_type": "display_data"
    }
   ],
   "source": [
    "# fig, ax = plt.subplots(nrows=1, ncols=3, figsize=(28, 14))\n",
    "\n",
    "SAMP_SIZES = [2**i for i in range(8, 12)]\n",
    "SAMP_SIZES_plot = [2**i for i in range(8, 12)]\n",
    "\n",
    "\n",
    "plt.rcParams[\"font.size\"] = 10\n",
    "fig, axs = plt.subplots(1, 1, figsize=(15, 5))\n",
    "REPs = 20\n",
    "ALPHA = 0.05\n",
    "for sim in [\"2\"]:\n",
    "    power_MIGHT = []\n",
    "    for n in SAMP_SIZES:\n",
    "        pvals = []\n",
    "        for idx in range(n_repeats):\n",
    "            file_name = \"{}/{}_{}_{}_{}.txt\".format(\n",
    "                SAVE_PATH, sim, \"MIGHT_Coleman_pertree\", n, idx\n",
    "            )\n",
    "\n",
    "            if not os.path.exists(file_name):\n",
    "                continue\n",
    "\n",
    "            try:\n",
    "                pval = np.loadtxt(file_name)[1]\n",
    "            except Exception as e:\n",
    "                # print(file_name)\n",
    "                continue\n",
    "                # raise(e)\n",
    "            pvals.append(pval)\n",
    "        empirical_power = (1 + (np.array(pvals) <= 0.05).sum()) / (1 + n_repeats)\n",
    "        # empirical_power = (np.array(pvals) < 0.05).sum() / len(pvals)\n",
    "        # empirical_power = (np.array(pvals) < 0.05).sum() / (100)\n",
    "        power_MIGHT.append(empirical_power)\n",
    "\n",
    "        # power_MIGHT_Coleman.append(empirical_power)\n",
    "\n",
    "        # power_MIGHT_Coleman = []\n",
    "        # for n in SAMP_SIZES:\n",
    "        #     df2 = np.genfromtxt(\n",
    "        #         \"/Users/baiyuxin/Desktop/JHU/NDD/Cancer/df2_coleman.csv\", delimiter=\",\"\n",
    "        #     )[1:]\n",
    "        #     df_sim = df2[df2[:, 1] == int(sim)]\n",
    "        #     df_samp = df_sim[df_sim[:, 2] == n]\n",
    "        #     pvals = df_samp[:, 3]\n",
    "        # empirical_power = (1 + (pvals <= 0.05).sum()) / (1 + 100)\n",
    "        # power_MIGHT_Coleman.append(empirical_power)\n",
    "\n",
    "    # power_MIGHT_Coleman_pertree = []\n",
    "    # for n in SAMP_SIZES:\n",
    "    #     file_name = \"{}/{}_{}_{}\".format(SAVE_PATH, sim, \"MIGH_Coleman_pertree\", n)\n",
    "    #     pvals = np.array(\n",
    "    #         [np.genfromtxt(\"{}_{}.txt\".format(file_name, rep)) for rep in range(REPs)]\n",
    "    #     )\n",
    "    #     empirical_power = (1 + (pvals <= ALPHA).sum()) / (1 + REPs)\n",
    "    #     power_MIGHT_Coleman_pertree.append(empirical_power)\n",
    "\n",
    "    axs.plot(\n",
    "        SAMP_SIZES_plot,\n",
    "        power_MIGHT,\n",
    "        \"blue\",\n",
    "        marker=\"o\",\n",
    "        markersize=2,\n",
    "        label=\"MIGHT\",\n",
    "        linewidth=2,\n",
    "        alpha=0.5,\n",
    "    )\n",
    "    # axs[int(sim) - 1].plot(\n",
    "    #     SAMP_SIZES_plot,\n",
    "    #     power_MIGHT_Coleman,\n",
    "    #     \"green\",\n",
    "    #     marker=\"o\",\n",
    "    #     markersize=2,\n",
    "    #     label=\"MIGHT_Coleman\",\n",
    "    #     linewidth=2,\n",
    "    #     alpha=0.5,\n",
    "    # )\n",
    "    # axs[int(sim) - 1].plot(\n",
    "    #     SAMP_SIZES_plot,\n",
    "    #     power_MIGHT_Coleman_pertree,\n",
    "    #     \"red\",\n",
    "    #     marker=\"o\",\n",
    "    #     markersize=2,\n",
    "    #     label=\"MIGHT_Coleman_Pertree\",\n",
    "    #     linewidth=2,\n",
    "    #     alpha=0.5,\n",
    "    # )\n",
    "    axs.plot(\n",
    "        SAMP_SIZES_plot,\n",
    "        ALPHA * np.ones(len(SAMP_SIZES_plot)),\n",
    "        \"black\",\n",
    "        linestyle=\"dashed\",\n",
    "        marker=\"o\",\n",
    "        markersize=2,\n",
    "        label=\"Alpha\",\n",
    "        linewidth=2,\n",
    "        alpha=0.5,\n",
    "    )\n",
    "    axs.set(\n",
    "        ylim=[0, 1.05],\n",
    "        xticks=[200, 500, 1000],\n",
    "        xlabel=\"Sample Size\",\n",
    "    )\n",
    "    # axs[int(sim) - 1].set_ylim(0, 1.05)\n",
    "    # axs[int(sim) - 1].set_yticks([])\n",
    "    # axs[int(sim) - 1].set_xticks([])\n",
    "    # axs[int(sim) - 1].set_yticks([0, 1])\n",
    "    # axs[int(sim) - 1].set_xticks([200, 500, 1000])\n",
    "    # axs[int(sim) - 1].set_xlabel(\"Sample Size\")\n",
    "\n",
    "    if sim == \"1\":\n",
    "        axs[int(sim) - 1].set_ylabel(\"Power at 4096 Dimensions\")\n",
    "        axs[int(sim) - 1].set_title(\"TRUNK\")\n",
    "    if sim == \"2\":\n",
    "        axs.set_title(\"TRUNK-Overlap with MIGHT-withbootstrap-Coleman-permutepertree\")\n",
    "\n",
    "if sim == \"3\":\n",
    "    axs[int(sim) - 1].set_title(\"TRUNK-Banbed\")\n",
    "    axs[int(sim) - 1].legend(bbox_to_anchor=(1.8, 1), loc=\"upper right\")\n",
    "    # np.savetxt(\"{}/null_dist_{}_{}_{}.txt\".format(SAVE_PATH, sim, 'MIGHT',rep), obs_stats_samplesize, delimiter=\",\")\n",
    "    # np.savetxt(\"{}/null_dist_{}_{}_{}.txt\".format(SAVE_PATH, sim, 'MIGHT',rep), alt_stats_samplesize, delimiter=\",\")"
   ]
  },
  {
   "cell_type": "code",
   "execution_count": 236,
   "id": "e988d0e5-17b0-4e8b-be07-c75dbaae4a77",
   "metadata": {},
   "outputs": [
    {
     "name": "stdout",
     "output_type": "stream",
     "text": [
      "[0.03482587064676617, 0.0845771144278607, 0.03980099502487562, 0.04477611940298507]\n"
     ]
    }
   ],
   "source": [
    "print(power_MIGHT)"
   ]
  },
  {
   "cell_type": "code",
   "execution_count": 239,
   "id": "5de5b59c-f384-4b4e-9bc0-5cbeb0c08851",
   "metadata": {},
   "outputs": [
    {
     "name": "stdout",
     "output_type": "stream",
     "text": [
      "[0.06965174129353234, 0.06965174129353234, 0.06467661691542288, 0.05970149253731343]\n"
     ]
    }
   ],
   "source": [
    "print(power_MIGHT)"
   ]
  },
  {
   "cell_type": "code",
   "execution_count": null,
   "id": "6ea2cb88-f966-4d70-8eb3-6d357af83182",
   "metadata": {},
   "outputs": [],
   "source": []
  }
 ],
 "metadata": {
  "kernelspec": {
   "display_name": "sktree",
   "language": "python",
   "name": "sktree"
  },
  "language_info": {
   "codemirror_mode": {
    "name": "ipython",
    "version": 3
   },
   "file_extension": ".py",
   "mimetype": "text/x-python",
   "name": "python",
   "nbconvert_exporter": "python",
   "pygments_lexer": "ipython3",
   "version": "3.9.18"
  }
 },
 "nbformat": 4,
 "nbformat_minor": 5
}
