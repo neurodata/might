{
 "cells": [
  {
   "cell_type": "code",
   "execution_count": 12,
   "id": "e857b64a-5f96-4ba2-9d4c-f31d236c491d",
   "metadata": {},
   "outputs": [],
   "source": [
    "import numpy as np\n",
    "import pandas as pd\n",
    "\n",
    "from drf import drf\n",
    "from sklearn.model_selection import train_test_split"
   ]
  },
  {
   "cell_type": "code",
   "execution_count": 35,
   "id": "2966d8c4-4d18-41a1-9ddf-30da16ba00ba",
   "metadata": {},
   "outputs": [
    {
     "name": "stdout",
     "output_type": "stream",
     "text": [
      "(25, 75)\n",
      "(75, 1)\n",
      "(25, 1)\n"
     ]
    },
    {
     "ename": "AttributeError",
     "evalue": "'predict_output' object has no attribute 'sample'",
     "output_type": "error",
     "traceback": [
      "\u001b[0;31m---------------------------------------------------------------------------\u001b[0m",
      "\u001b[0;31mAttributeError\u001b[0m                            Traceback (most recent call last)",
      "Cell \u001b[0;32mIn[35], line 27\u001b[0m\n\u001b[1;32m     24\u001b[0m \u001b[38;5;28mprint\u001b[39m(out\u001b[38;5;241m.\u001b[39mmean\u001b[38;5;241m.\u001b[39mshape)\n\u001b[1;32m     26\u001b[0m out \u001b[38;5;241m=\u001b[39m DRF\u001b[38;5;241m.\u001b[39mpredict(newdata \u001b[38;5;241m=\u001b[39m X_test, functional \u001b[38;5;241m=\u001b[39m \u001b[38;5;124m\"\u001b[39m\u001b[38;5;124msample\u001b[39m\u001b[38;5;124m\"\u001b[39m, n\u001b[38;5;241m=\u001b[39m\u001b[38;5;241m100\u001b[39m)\n\u001b[0;32m---> 27\u001b[0m \u001b[38;5;28mprint\u001b[39m(\u001b[43mout\u001b[49m\u001b[38;5;241;43m.\u001b[39;49m\u001b[43msample\u001b[49m)\n",
      "\u001b[0;31mAttributeError\u001b[0m: 'predict_output' object has no attribute 'sample'"
     ]
    }
   ],
   "source": [
    "# generate data\n",
    "n = 100\n",
    "p = 100\n",
    "d = 1\n",
    "X = np.random.normal(0, 1, size=(n, p))\n",
    "Y = np.random.normal(0, 1, size=(n, d))\n",
    "Y[:,0] = Y[:,0] + X[:,0] #mean shift of Y1 based on X1\n",
    "# Y[:,1] = Y[:,1] * X[:,1] #variance shift of Y2 based on X2\n",
    "X_train, X_test, y_train, y_test = train_test_split(X, Y)\n",
    "X = pd.DataFrame(X_train)\n",
    "Y = pd.DataFrame(y_train)\n",
    "\n",
    "# fit model\n",
    "DRF = drf(num_trees = 2000) #those are the default values\n",
    "DRF.fit(X, Y)\n",
    "\n",
    "# estimated conditional distribution represented via weights\n",
    "out = DRF.predict(newdata = X_test)\n",
    "print(out.weights.shape)\n",
    "print(out.y.shape)\n",
    "\n",
    "# many distributional functionals are implemented and do not need to be manually computed from the weights\n",
    "out = DRF.predict(newdata = X_test, functional = \"mean\")\n",
    "print(out.mean.shape)\n",
    "\n",
    "out = DRF.predict(newdata = X_test, functional = \"sample\", n = 100)\n",
    "print(out.sample)"
   ]
  },
  {
   "cell_type": "code",
   "execution_count": null,
   "id": "45201090-98cd-49d1-96a4-297f52714de1",
   "metadata": {},
   "outputs": [],
   "source": []
  }
 ],
 "metadata": {
  "kernelspec": {
   "display_name": "Python 3 (ipykernel)",
   "language": "python",
   "name": "python3"
  },
  "language_info": {
   "codemirror_mode": {
    "name": "ipython",
    "version": 3
   },
   "file_extension": ".py",
   "mimetype": "text/x-python",
   "name": "python",
   "nbconvert_exporter": "python",
   "pygments_lexer": "ipython3",
   "version": "3.11.5"
  }
 },
 "nbformat": 4,
 "nbformat_minor": 5
}
