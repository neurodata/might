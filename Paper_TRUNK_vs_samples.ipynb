{
 "cells": [
  {
   "cell_type": "code",
   "execution_count": 1,
   "metadata": {},
   "outputs": [],
   "source": [
    "import math\n",
    "import os\n",
    "import sys\n",
    "\n",
    "import matplotlib.pyplot as plt\n",
    "import numpy as np\n",
    "# import pandas as pd\n",
    "import scipy\n",
    "# import seaborn as sns\n",
    "from joblib import Parallel, delayed\n",
    "from scipy.integrate import nquad, quad, simps\n",
    "from scipy.stats import entropy, gamma, multivariate_normal, norm\n",
    "from sklearn import metrics\n",
    "from sklearn.metrics import roc_auc_score\n",
    "from sklearn.preprocessing import normalize\n",
    "from sktree.datasets import make_trunk_classification\n",
    "from sktree.ensemble import HonestForestClassifier\n",
    "from sktree.stats import build_hyppo_oob_forest\n",
    "from sktree.tree import DecisionTreeClassifier\n",
    "from sklearn.metrics import roc_auc_score, roc_curve\n",
    "\n"
   ]
  },
  {
   "cell_type": "code",
   "execution_count": 12,
   "metadata": {},
   "outputs": [],
   "source": [
    "SIMULATIONS = {\n",
    "    \"1\" : {\"m_factor\" : 5},\n",
    "    \"2\" : {\"m_factor\" : 1},\n",
    "}\n",
    "\n",
    "SAMP_SIZES = [2**i for i in range(6, 11)]\n",
    "SAMP_SIZES_plot = [2*2**i for i in range(6, 11)]\n",
    "REPS = range(100, 1000)\n",
    "P = 2048\n",
    "SAVE_PATH  = '/Users/baiyuxin/Desktop/JHU/NDD/Cancer/paper_trunk'"
   ]
  },
  {
   "cell_type": "code",
   "execution_count": 3,
   "metadata": {},
   "outputs": [],
   "source": [
    "n_jobs = -3\n",
    "n_estimators = 2000"
   ]
  },
  {
   "cell_type": "code",
   "execution_count": 4,
   "metadata": {},
   "outputs": [],
   "source": [
    "def sensitivity_at_specificity(y_true, y_score, target_specificity=0.98, pos_label=1):\n",
    "    n_trees, n_samples, n_classes = y_score.shape\n",
    "\n",
    "    # Compute nan-averaged y_score along the trees axis\n",
    "    y_score_avg = np.nanmean(y_score, axis=0)\n",
    "\n",
    "    # Extract true labels and nan-averaged predicted scores for the positive class\n",
    "    y_true = y_true.ravel()\n",
    "    y_score_binary = y_score_avg[:, 1]\n",
    "\n",
    "    # Identify rows with NaN values in y_score_binary\n",
    "    nan_rows = np.isnan(y_score_binary)\n",
    "\n",
    "    # Remove NaN rows from y_score_binary and y_true\n",
    "    y_score_binary = y_score_binary[~nan_rows]\n",
    "    y_true = y_true[~nan_rows]\n",
    "\n",
    "    # Compute ROC curve\n",
    "    fpr, tpr, thresholds = roc_curve(y_true, y_score_binary, pos_label=pos_label)\n",
    "\n",
    "    # Find the threshold corresponding to the target specificity\n",
    "    index = max(np.argmax(fpr > (1 - target_specificity))-1, 0)\n",
    "    threshold_at_specificity = thresholds[index]\n",
    "\n",
    "    # Compute sensitivity at the chosen specificity\n",
    "    # sensitivity = tpr[index]\n",
    "    # return sensitivity\n",
    "\n",
    "    # Use the threshold to classify predictions\n",
    "    y_pred_at_specificity = (y_score_binary >= threshold_at_specificity).astype(int)\n",
    "\n",
    "    # Compute sensitivity at the chosen specificity\n",
    "    sensitivity = np.sum((y_pred_at_specificity == 1) & (y_true == 1)) / np.sum(\n",
    "        y_true == 1\n",
    "    )\n",
    "\n",
    "    return sensitivity"
   ]
  },
  {
   "cell_type": "code",
   "execution_count": 5,
   "metadata": {},
   "outputs": [],
   "source": [
    "SAMP_SIZES = [2**i for i in range(6, 11)]\n",
    "Reps = 50"
   ]
  },
  {
   "cell_type": "code",
   "execution_count": 7,
   "metadata": {},
   "outputs": [
    {
     "name": "stdout",
     "output_type": "stream",
     "text": [
      "2 64 0.90625\n",
      "2 128 0.984375\n",
      "2 256 0.9765625\n",
      "2 512 0.9765625\n",
      "2 1024 0.984375\n",
      "3 64 1.0\n",
      "3 128 1.0\n",
      "3 256 1.0\n",
      "3 512 0.984375\n",
      "3 1024 0.984375\n",
      "4 64 0.96875\n",
      "4 128 0.984375\n",
      "4 256 0.96875\n",
      "4 512 0.9765625\n",
      "4 1024 0.984375\n"
     ]
    }
   ],
   "source": [
    "# S98_array = np.zeros((Reps,len(SAMP_SIZES)))\n",
    "for i in range(2,5):\n",
    "    S98 = []\n",
    "    for n in SAMP_SIZES:\n",
    "        est = HonestForestClassifier(\n",
    "        n_estimators=2000,\n",
    "        max_samples=1.6,\n",
    "        max_features=0.3,\n",
    "        bootstrap= True,\n",
    "        random_state= 3*i+n,\n",
    "        tree_estimator=DecisionTreeClassifier(),\n",
    "        # max_depth = 1,\n",
    "        honest_fraction=0.5,\n",
    "        stratify=True,\n",
    "        # permute_per_tree=True,\n",
    "        n_jobs=n_jobs,)\n",
    "\n",
    "        x,y,mu,cov = make_trunk_classification(n_samples=n, n_dim=2048, **SIMULATIONS[\"1\"],n_informative=256,return_params = True)\n",
    "        # print(cov[0][0])\n",
    "        x = np.float32(x)\n",
    "        y = np.float32(y)\n",
    "        est,prob = build_hyppo_oob_forest(est,x, y)\n",
    "        sas98 = sensitivity_at_specificity(y, prob, target_specificity=0.98)\n",
    "        print(i,n,sas98)\n",
    "        S98.append(sas98)\n",
    "    np.savetxt(SAVE_PATH + \"/Trunk_1_dim2048_reps{}.csv\".format(i), S98, delimiter=\",\")\n",
    "\n",
    "    # S98_array[i,:] = S98\n"
   ]
  },
  {
   "cell_type": "code",
   "execution_count": 16,
   "metadata": {},
   "outputs": [
    {
     "data": {
      "image/png": "[encoded data removed]",
      "text/plain": [
       "<Figure size 1800x500 with 2 Axes>"
      ]
     },
     "metadata": {},
     "output_type": "display_data"
    }
   ],
   "source": [
    "REPs = 5\n",
    "STATS_S98_TRUNK = np.zeros((REPs,len(SAMP_SIZES)))\n",
    "STATS_S98_TRUNKOVERLAP = np.zeros((REPs,len(SAMP_SIZES)))\n",
    "for k in range(REPs):\n",
    "    for p in SAMP_SIZES:\n",
    "        s98 = np.genfromtxt(SAVE_PATH + \"/Trunk_1_dim2048_reps{}.csv\".format(k),delimiter=',')\n",
    "        s98_over = np.genfromtxt(SAVE_PATH + \"/Trunk_overlap_reps{}.csv\".format(k),delimiter=',')\n",
    "    STATS_S98_TRUNK[k,:] = s98\n",
    "    STATS_S98_TRUNKOVERLAP[k,:] = s98_over\n",
    "\n",
    "median_MIGHT_TRUNK = np.quantile(STATS_S98_TRUNK, 0.5, axis=0)\n",
    "mean_MIGHT_TRUNK = np.mean(STATS_S98_TRUNK,axis = 0)\n",
    "q25_MIGHT_TRUNK = np.quantile(STATS_S98_TRUNK, 0.25, axis=0)\n",
    "q75_MIGHT_TRUNK = np.quantile(STATS_S98_TRUNK, 0.75, axis=0)\n",
    "\n",
    "median_MIGHT_TRUNKOVERLAP = np.quantile(STATS_S98_TRUNKOVERLAP, 0.5, axis=0)\n",
    "mean_MIGHT_TRUNKOVERLAP = np.mean(STATS_S98_TRUNKOVERLAP,axis = 0)\n",
    "q25_MIGHT_TRUNKOVERLAP = np.quantile(STATS_S98_TRUNKOVERLAP, 0.25, axis=0)\n",
    "q75_MIGHT_TRUNKOVERLAP = np.quantile(STATS_S98_TRUNKOVERLAP, 0.75, axis=0)\n",
    "\n",
    "\n",
    "\n",
    "\n",
    "fig, axs = plt.subplots(1, 2,figsize=(18, 5))\n",
    "axs[0].plot(SAMP_SIZES_plot,mean_MIGHT_TRUNK,\n",
    "                        'r',marker='o', markersize=2,label = 'MIGHT',linewidth =2)\n",
    "axs[0].fill_between(SAMP_SIZES_plot,q25_MIGHT_TRUNK,q75_MIGHT_TRUNK,\n",
    "                                alpha = 0.5,color ='red')\n",
    "axs[0].plot(SAMP_SIZES_plot, 0.9983 * np.ones(len(SAMP_SIZES_plot)) , 'black',linestyle='dashed',marker='o', markersize=2,label = \"Truth\",linewidth =2,alpha = 0.5)\n",
    "axs[0].set_title(\"TRUNK\")\n",
    "\n",
    "axs[1].plot(SAMP_SIZES_plot,mean_MIGHT_TRUNKOVERLAP,\n",
    "                        'r',marker='o', markersize=2,label = 'MIGHT',linewidth =2)\n",
    "axs[1].fill_between(SAMP_SIZES_plot,q25_MIGHT_TRUNKOVERLAP,q75_MIGHT_TRUNKOVERLAP,\n",
    "                                alpha = 0.5,color ='red')\n",
    "axs[1].plot(SAMP_SIZES_plot, 0.02 * np.ones(len(SAMP_SIZES_plot)) , 'black',linestyle='dashed',marker='o', markersize=2,label = \"Truth\",linewidth =2,alpha = 0.5)\n",
    "axs[1].set_title(\"TRUNK-Overlap\")\n",
    "\n",
    "\n",
    "# axs[2].set_title(\"Independent\")\n",
    "\n",
    "# axs[2].plot(SAMP_SIZES_plot, 0.02 * np.ones(len(SAMP_SIZES_plot)) , 'black',linestyle='dashed',marker='o', markersize=2,label = \"Truth\",linewidth =2,alpha = 0.5)\n",
    "# axs[2].plot(SAMP_SIZES_plot,mean_MIGHT_TRUNKOVERLAP,\n",
    "#                         'r',marker='o', markersize=2,label = 'MIGHT',linewidth =4,alpha  = 0)\n",
    "# axs[2].fill_between(SAMP_SIZES_plot,q25_MIGHT_TRUNKOVERLAP,q75_MIGHT_TRUNKOVERLAP,\n",
    "#                                 alpha = 0.5,color ='red')\n",
    "axs[1].legend(bbox_to_anchor = (1.8,1),loc = 'upper right')\n",
    "\n",
    "for sim in [\"1\",\"2\"]:\n",
    "    axs[int(sim)-1].set_ylim(-0.02, 1.05)\n",
    "    axs[int(sim)-1].set_yticks([])\n",
    "    axs[int(sim)-1].set_xticks([])\n",
    "    axs[int(sim)-1].set_yticks([0, 1])\n",
    "    axs[int(sim)-1].set_xticks([100,500,1000,2000])\n",
    "    axs[int(sim)-1].set_xlabel(\"Sample Size\")\n",
    "\n"
   ]
  }
 ],
 "metadata": {
  "kernelspec": {
   "display_name": "might_bootstrap",
   "language": "python",
   "name": "python3"
  },
  "language_info": {
   "codemirror_mode": {
    "name": "ipython",
    "version": 3
   },
   "file_extension": ".py",
   "mimetype": "text/x-python",
   "name": "python",
   "nbconvert_exporter": "python",
   "pygments_lexer": "ipython3",
   "version": "3.11.7"
  }
 },
 "nbformat": 4,
 "nbformat_minor": 2
}
