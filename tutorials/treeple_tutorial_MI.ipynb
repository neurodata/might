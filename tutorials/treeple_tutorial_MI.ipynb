{
 "cells": [
  {
   "cell_type": "markdown",
   "id": "a66df437",
   "metadata": {},
   "source": [
    "# Treeple Tutorial for calculating MI"
   ]
  },
  {
   "cell_type": "code",
   "execution_count": 1,
   "id": "1b13e746",
   "metadata": {},
   "outputs": [],
   "source": [
    "import numpy as np\n",
    "import matplotlib.pyplot as plt\n",
    "from sktree.datasets import make_trunk_classification\n",
    "from sktree.ensemble import HonestForestClassifier\n",
    "from sktree.stats import build_hyppo_oob_forest\n",
    "from scipy.stats import entropy"
   ]
  },
  {
   "cell_type": "markdown",
   "id": "e41ab793",
   "metadata": {},
   "source": [
    "## MI\n",
    "\n",
    "Mutual Information (*MI*) measures the mutual dependence between *X* and *Y*. It can be calculated by the difference between the class entropy (`H(Y)`) and the conditional entropy (`H(Y | X)`):\n",
    "\n",
    "$$I(X; Y) = H(Y) - H(Y\\mid X)$$\n",
    "\n",
    "With a binary class simulation as an example, this tutorial will show how to use `treeple` to calculate the statistic."
   ]
  },
  {
   "cell_type": "code",
   "execution_count": 2,
   "id": "f645bb1a",
   "metadata": {},
   "outputs": [],
   "source": [
    "def Calculate_MI(y_true, y_pred_proba):\n",
    "    # calculate the conditional entropy\n",
    "    H_YX = np.mean(entropy(y_pred_proba, base=np.exp(1), axis=1))\n",
    "\n",
    "    # empirical count of each class (n_classes)\n",
    "    _, counts = np.unique(y_true, return_counts=True)\n",
    "    # calculate the entropy of labels\n",
    "    H_Y = entropy(counts, base=np.exp(1))\n",
    "    return H_Y - H_YX"
   ]
  },
  {
   "cell_type": "markdown",
   "id": "30dbd11c",
   "metadata": {},
   "source": [
    "## Create a simulation with two gaussians"
   ]
  },
  {
   "cell_type": "code",
   "execution_count": 3,
   "id": "1df9ee2b",
   "metadata": {},
   "outputs": [],
   "source": [
    "# create a binary class simulation with two gaussians\n",
    "# 500 samples for each class, class zero is standard\n",
    "# gaussian, and class one has a mean at one\n",
    "X, y = make_trunk_classification(\n",
    "    n_samples=1000,\n",
    "    n_dim=1,\n",
    "    mu_0=0,\n",
    "    mu_1=1,\n",
    "    n_informative=1,\n",
    "    seed=1,\n",
    ")"
   ]
  },
  {
   "cell_type": "markdown",
   "id": "3a9aab58",
   "metadata": {},
   "source": [
    "## Fit the model"
   ]
  },
  {
   "cell_type": "code",
   "execution_count": 4,
   "id": "30eb4b37",
   "metadata": {},
   "outputs": [],
   "source": [
    "# initialize the forest with 100 trees\n",
    "est = HonestForestClassifier(\n",
    "    n_estimators=100,\n",
    "    max_samples=1.6,\n",
    "    max_features=0.3,\n",
    "    bootstrap=True,\n",
    "    stratify=True,\n",
    "    random_state=1,\n",
    ")\n",
    "\n",
    "# fit the model and obtain the tree posteriors\n",
    "_, observe_proba = build_hyppo_oob_forest(est, X, y)\n",
    "\n",
    "# generate forest posteriors for the two classes\n",
    "observe_proba = np.nanmean(observe_proba, axis=0)"
   ]
  },
  {
   "cell_type": "markdown",
   "id": "fd528eca",
   "metadata": {},
   "source": [
    "## Calculate the statistic"
   ]
  },
  {
   "cell_type": "code",
   "execution_count": 5,
   "id": "1978aca2",
   "metadata": {},
   "outputs": [
    {
     "name": "stdout",
     "output_type": "stream",
     "text": [
      "MI = 0.14\n"
     ]
    }
   ],
   "source": [
    "mi = Calculate_MI(y, observe_proba)\n",
    "print(\"MI =\", round(mi, 2))"
   ]
  }
 ],
 "metadata": {
  "kernelspec": {
   "display_name": "Python 3 (ipykernel)",
   "language": "python",
   "name": "python3"
  },
  "language_info": {
   "codemirror_mode": {
    "name": "ipython",
    "version": 3
   },
   "file_extension": ".py",
   "mimetype": "text/x-python",
   "name": "python",
   "nbconvert_exporter": "python",
   "pygments_lexer": "ipython3",
   "version": "3.9.16"
  }
 },
 "nbformat": 4,
 "nbformat_minor": 5
}
