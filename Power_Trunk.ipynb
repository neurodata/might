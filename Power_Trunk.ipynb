{
 "cells": [
  {
   "cell_type": "code",
   "execution_count": 1,
   "metadata": {},
   "outputs": [],
   "source": [
    "import sys, os\n",
    "from joblib import Parallel, delayed\n",
    "import numpy as np\n",
    "import matplotlib.pyplot as plt\n",
    "import math\n",
    "import scipy\n",
    "from scipy.integrate import quad, nquad\n",
    "from sklearn.preprocessing import normalize\n",
    "from sktree.tree import DecisionTreeClassifier\n",
    "from sktree.ensemble import HonestForestClassifier\n",
    "from sktree.stats import FeatureImportanceForestClassifier\n",
    "from sklearn.metrics import roc_auc_score\n",
    "from scipy.stats import entropy\n",
    "\n",
    "import numpy as np\n",
    "from scipy.stats import norm\n",
    "from scipy.stats import multivariate_normal\n",
    "from scipy.integrate import simps\n",
    "from scipy.stats import entropy\n",
    "from scipy.stats import gamma\n",
    "from sklearn import metrics\n",
    "from hyppo import make_trunk_classification"
   ]
  },
  {
   "cell_type": "code",
   "execution_count": 2,
   "metadata": {},
   "outputs": [],
   "source": [
    "SIMULATIONS = {\n",
    "    \"1\" : {},\n",
    "    \"2\" : {\"m_factor\" : 1},\n",
    "    \"3\" : {\"band_type\" : \"ar\", \"rho\" : 0.5},\n",
    "    \"4\" : {\"band_type\" : \"ar\", \"m_factor\" : 1, \"rho\" : 0.5},\n",
    "}"
   ]
  },
  {
   "cell_type": "code",
   "execution_count": 3,
   "metadata": {},
   "outputs": [],
   "source": [
    "def _perm_stat(est, sim, n=100, p=1, **kwargs):\n",
    "    \"\"\"\n",
    "    Generates null and alternate distributions\n",
    "    \"\"\"\n",
    "    est.reset()\n",
    "    x,y,mu,cov = make_trunk_classification(n_samples=n, n_dim=p, **SIMULATIONS[sim],return_params = True)\n",
    "    x = np.float32(x)\n",
    "    y = np.float32(y)\n",
    "    _,obs_stat = est.statistic(x, y,**kwargs)\n",
    "    permv = np.random.permutation(y)\n",
    "    est.reset()\n",
    "    _,perm_stat = est.statistic(x, permv, **kwargs)\n",
    "    est.reset()\n",
    "\n",
    "    return obs_stat, perm_stat\n",
    "\n",
    "\n",
    "def _nonperm_pval(est, sim, n=100, p=1, noise=True, **kwargs):\n",
    "    \"\"\"\n",
    "    Generates fast  permutation pvalues\n",
    "    \"\"\"\n",
    "    est.reset()\n",
    "    x,y,mu,cov = make_trunk_classification(n_samples=n, n_dim=p, **SIMULATIONS[sim],return_params = True)\n",
    "    x = np.float32(x)\n",
    "    y = np.float32(y)\n",
    "    est.reset()\n",
    "    pvalue = est.test(x, y, metric = \"s@98\")[1]\n",
    "    est.reset()\n",
    "    return pvalue"
   ]
  },
  {
   "cell_type": "code",
   "execution_count": 13,
   "metadata": {},
   "outputs": [],
   "source": [
    "SAMP_SIZES = [2**i for i in range(8, 10)]\n",
    "SAMP_SIZES_plot = [2*2**i for i in range(8, 10)]\n",
    "DIM = 4 ** 6\n",
    "REPS = range(100, 1000)\n",
    "P = 4096\n",
    "SAVE_PATH  = '/Users/baiyuxin/Desktop/JHU/NDD/Cancer/MIGHT_POWER'\n"
   ]
  },
  {
   "cell_type": "code",
   "execution_count": 5,
   "metadata": {},
   "outputs": [],
   "source": [
    "def compute_null(rep, est, est_name, sim, n=100, p=1):\n",
    "    \"\"\"\n",
    "    Calculates empirical null and alternate distribution for each test.\n",
    "    \"\"\"\n",
    "    kwargs = {}\n",
    "    if est_name in [\"MIGHT-sktree\", \"MIGHT-Coleman\"]:\n",
    "        kwargs = {\"metric\" : \"mi\"}\n",
    "    if est_name in [\"MIGHT\", \"MIGHT-sktree\"]:\n",
    "        alt_dist, null_dist = _perm_stat(est, sim, n, p)\n",
    "        np.savetxt(\"{}/{}_{}_{}_{}.txt\".format(SAVE_PATH, sim, est_name, n, rep), [alt_dist, null_dist], delimiter=\",\")\n",
    "    else:\n",
    "        pval = _nonperm_pval(est, sim, n, p)\n",
    "        np.savetxt(\"{}/{}_{}_{}_{}.txt\".format(SAVE_PATH, sim, est_name, n, rep), [pval])"
   ]
  },
  {
   "cell_type": "code",
   "execution_count": 6,
   "metadata": {},
   "outputs": [],
   "source": [
    "n_jobs = -3\n",
    "# test_size = 0.2\n",
    "n_estimators = 500\n",
    "\n",
    "### Calculate one dimention posterior with max_features = all, depth = 1\n",
    "clf = FeatureImportanceForestClassifier(\n",
    "    estimator=HonestForestClassifier(\n",
    "        n_estimators=n_estimators,\n",
    "        max_features=0.3,\n",
    "        bootstrap= True,\n",
    "        tree_estimator=DecisionTreeClassifier(),\n",
    "        # max_depth = 1,\n",
    "        honest_fraction=0.5,\n",
    "        n_jobs=n_jobs,\n",
    "\n",
    "    ),\n",
    "    # test_size=test_size,\n",
    "    permute_per_tree=False,\n",
    "    sample_dataset_per_tree=True,\n",
    "    stratify = True\n",
    ")\n",
    "\n",
    "\n",
    "\n",
    "clf2 = FeatureImportanceForestClassifier(\n",
    "    estimator=HonestForestClassifier(\n",
    "        n_estimators=n_estimators,\n",
    "        max_features=0.3,\n",
    "        bootstrap= True,\n",
    "        tree_estimator=DecisionTreeClassifier(),\n",
    "        # max_depth = 1,\n",
    "        honest_fraction=0.5,\n",
    "        n_jobs=n_jobs,\n",
    "\n",
    "    ),\n",
    "    # test_size=test_size,\n",
    "    permute_per_tree=False,\n",
    "    sample_dataset_per_tree=True,\n",
    "    stratify = True\n",
    ")\n",
    "\n",
    "\n",
    "clf3 = FeatureImportanceForestClassifier(\n",
    "    estimator=HonestForestClassifier(\n",
    "        n_estimators=n_estimators,\n",
    "        max_features=0.3,\n",
    "        bootstrap= True,\n",
    "        tree_estimator=DecisionTreeClassifier(),\n",
    "        # max_depth = 1,\n",
    "        honest_fraction=0.5,\n",
    "        n_jobs=n_jobs,\n",
    "\n",
    "    ),\n",
    "    # test_size=test_size,\n",
    "    permute_per_tree=True,\n",
    "    sample_dataset_per_tree=True,\n",
    "    stratify = True\n",
    ")\n",
    "\n",
    "\n"
   ]
  },
  {
   "cell_type": "code",
   "execution_count": 11,
   "metadata": {},
   "outputs": [
    {
     "name": "stdout",
     "output_type": "stream",
     "text": [
      "(0.5390625, 0.5390625)\n"
     ]
    }
   ],
   "source": [
    "clf.reset()\n",
    "x,y,mu,cov = make_trunk_classification(n_samples=256, n_dim=4096, **SIMULATIONS[\"1\"],return_params = True)\n",
    "# x = np.float32(x)\n",
    "# y = np.float32(y)\n",
    "print(clf.statistic(x, y,metric = \"s@98\"))\n",
    "clf.reset()"
   ]
  },
  {
   "cell_type": "code",
   "execution_count": 27,
   "metadata": {},
   "outputs": [
    {
     "name": "stdout",
     "output_type": "stream",
     "text": [
      "0.728515625 0.009765625\n",
      "0.744140625 0.02734375\n",
      "0.62890625 0.03515625\n",
      "0.728515625 0.015625\n",
      "0.740234375 0.03515625\n",
      "0.73828125 0.0234375\n"
     ]
    },
    {
     "name": "stderr",
     "output_type": "stream",
     "text": [
      "/Users/baiyuxin/anaconda3/envs/might/lib/python3.11/site-packages/numpy/core/fromnumeric.py:88: RuntimeWarning: invalid value encountered in reduce\n",
      "  return ufunc.reduce(obj, axis, dtype, out, **passkwargs)\n"
     ]
    },
    {
     "name": "stdout",
     "output_type": "stream",
     "text": [
      "0.70703125 0.01171875\n",
      "0.708984375 0.015625\n",
      "0.712890625 0.021484375\n",
      "0.791015625 0.017578125\n",
      "0.685546875 0.01171875\n"
     ]
    },
    {
     "name": "stderr",
     "output_type": "stream",
     "text": [
      "/Users/baiyuxin/anaconda3/envs/might/lib/python3.11/site-packages/numpy/core/fromnumeric.py:88: RuntimeWarning: invalid value encountered in reduce\n",
      "  return ufunc.reduce(obj, axis, dtype, out, **passkwargs)\n"
     ]
    },
    {
     "name": "stdout",
     "output_type": "stream",
     "text": [
      "0.712890625 0.01171875\n",
      "0.671875 0.046875\n",
      "0.763671875 0.00390625\n",
      "0.763671875 0.01171875\n",
      "0.796875 0.0234375\n",
      "0.732421875 0.0234375\n",
      "0.7734375 0.037109375\n",
      "0.755859375 0.021484375\n",
      "0.765625 0.01953125\n",
      "0.017578125 0.03125\n",
      "0.033203125 0.017578125\n",
      "0.017578125 0.005859375\n",
      "0.015625 0.017578125\n",
      "0.01953125 0.017578125\n",
      "0.015625 0.037109375\n",
      "0.044921875 0.01171875\n",
      "0.00390625 0.03125\n",
      "0.013671875 0.029296875\n",
      "0.017578125 0.021484375\n",
      "0.01171875 0.03515625\n",
      "0.0234375 0.03125\n",
      "0.017578125 0.033203125\n",
      "0.00390625 0.01953125\n",
      "0.015625 0.01953125\n",
      "0.029296875 0.005859375\n",
      "0.021484375 0.025390625\n",
      "0.017578125 0.029296875\n",
      "0.02734375 0.005859375\n",
      "0.02734375 0.013671875\n",
      "0.564453125 0.01171875\n",
      "0.541015625 0.017578125\n",
      "0.4765625 0.021484375\n",
      "0.548828125 0.029296875\n",
      "0.4296875 0.021484375\n",
      "0.609375 0.015625\n",
      "0.384765625 0.033203125\n",
      "0.51171875 0.01953125\n",
      "0.48828125 0.017578125\n",
      "0.4375 0.021484375\n"
     ]
    },
    {
     "name": "stderr",
     "output_type": "stream",
     "text": [
      "/Users/baiyuxin/anaconda3/envs/might/lib/python3.11/site-packages/numpy/core/fromnumeric.py:88: RuntimeWarning: invalid value encountered in reduce\n",
      "  return ufunc.reduce(obj, axis, dtype, out, **passkwargs)\n"
     ]
    },
    {
     "name": "stdout",
     "output_type": "stream",
     "text": [
      "0.626953125 0.01953125\n"
     ]
    }
   ],
   "source": [
    "for i in [\"1\",\"2\",\"3\"]:\n",
    "  for rep in range(20):\n",
    "    for sam in [1024]:\n",
    "     alt_dist, null_dist = _perm_stat(est = clf, sim = i, n=sam, p=4096)\n",
    "     print(alt_dist, null_dist)\n",
    "     np.savetxt(\"{}/{}_{}_{}_{}.txt\".format(SAVE_PATH, i, 'MIGHT', sam, rep), [alt_dist, null_dist], delimiter=\",\")"
   ]
  },
  {
   "cell_type": "code",
   "execution_count": 7,
   "metadata": {},
   "outputs": [
    {
     "name": "stdout",
     "output_type": "stream",
     "text": [
      "0.7222777222777222\n",
      "0.8141858141858141\n",
      "0.7452547452547452\n",
      "0.4355644355644356\n",
      "0.7402597402597403\n",
      "0.002997002997002997\n",
      "0.6493506493506493\n",
      "0.22077922077922077\n",
      "0.967032967032967\n",
      "0.17882117882117882\n",
      "0.7612387612387612\n",
      "0.8371628371628371\n",
      "0.07392607392607392\n",
      "0.8201798201798202\n",
      "0.11488511488511488\n",
      "0.13586413586413587\n",
      "0.11788211788211789\n",
      "0.3006993006993007\n",
      "0.24375624375624375\n",
      "0.46553446553446554\n",
      "0.5214785214785215\n",
      "0.7012987012987013\n",
      "0.6283716283716284\n",
      "0.07392607392607392\n",
      "0.03896103896103896\n",
      "0.6483516483516484\n",
      "0.16983016983016982\n",
      "0.5234765234765235\n",
      "0.5434565434565435\n"
     ]
    }
   ],
   "source": [
    "for i in [\"2\"]:\n",
    "  for rep in range(8,50):\n",
    "    for sam in SAMP_SIZES:\n",
    "     pval = _nonperm_pval(est = clf2, sim = i, n=sam, p=4096)\n",
    "     print(pval)\n",
    "     np.savetxt(\"{}/{}_{}_{}_{}.txt\".format(SAVE_PATH, i, 'MIGH_Coleman', sam, rep), [pval], delimiter=\",\")"
   ]
  },
  {
   "cell_type": "code",
   "execution_count": 36,
   "metadata": {},
   "outputs": [
    {
     "data": {
      "text/plain": [
       "0.8971028971028971"
      ]
     },
     "execution_count": 36,
     "metadata": {},
     "output_type": "execute_result"
    }
   ],
   "source": [
    "_nonperm_pval(est = clf3, sim = \"1\", n=32, p=4096)"
   ]
  },
  {
   "cell_type": "code",
   "execution_count": 24,
   "metadata": {},
   "outputs": [
    {
     "name": "stdout",
     "output_type": "stream",
     "text": [
      "0.7942057942057942\n",
      "0.5544455544455544\n",
      "0.7932067932067932\n",
      "0.12987012987012986\n",
      "0.6483516483516484\n",
      "0.6543456543456544\n",
      "0.8621378621378621\n",
      "0.986013986013986\n",
      "0.000999000999000999\n",
      "0.8501498501498501\n",
      "0.8511488511488512\n",
      "0.8111888111888111\n",
      "0.5834165834165834\n",
      "0.9000999000999002\n",
      "0.04395604395604396\n",
      "0.7122877122877123\n",
      "0.5144855144855145\n",
      "0.25574425574425574\n",
      "0.2677322677322677\n",
      "0.7632367632367633\n",
      "0.000999000999000999\n",
      "0.08591408591408592\n",
      "0.14085914085914086\n",
      "0.053946053946053944\n",
      "0.000999000999000999\n",
      "0.3886113886113886\n",
      "0.03496503496503497\n",
      "0.3956043956043956\n",
      "0.029970029970029972\n",
      "0.000999000999000999\n",
      "0.12187812187812187\n",
      "0.004995004995004995\n",
      "0.000999000999000999\n",
      "0.6483516483516484\n",
      "0.32367632367632365\n",
      "0.13786213786213786\n",
      "0.000999000999000999\n",
      "0.002997002997002997\n",
      "0.15584415584415584\n",
      "0.001998001998001998\n"
     ]
    }
   ],
   "source": [
    "for i in [\"2\",\"3\"]:\n",
    "  for rep in range(20):\n",
    "    for sam in [128]:\n",
    "     pval = _nonperm_pval(est = clf3, sim = i, n=sam, p=4096)\n",
    "     print(pval)\n",
    "     np.savetxt(\"{}/{}_{}_{}_{}.txt\".format(SAVE_PATH, i, 'MIGH_Coleman_pertree', sam, rep), [pval], delimiter=\",\")"
   ]
  },
  {
   "cell_type": "code",
   "execution_count": 16,
   "metadata": {},
   "outputs": [
    {
     "data": {
      "text/plain": [
       "0.1782178217821782"
      ]
     },
     "execution_count": 16,
     "metadata": {},
     "output_type": "execute_result"
    }
   ],
   "source": []
  },
  {
   "cell_type": "code",
   "execution_count": 26,
   "metadata": {},
   "outputs": [
    {
     "data": {
      "image/png": "[encoded data removed]",
      "text/plain": [
       "<Figure size 1500x500 with 3 Axes>"
      ]
     },
     "metadata": {},
     "output_type": "display_data"
    }
   ],
   "source": [
    "# fig, ax = plt.subplots(nrows=1, ncols=3, figsize=(28, 14))\n",
    "\n",
    "SAMP_SIZES = [2**i for i in range(7, 10)]\n",
    "SAMP_SIZES_plot = [2*2**i for i in range(7, 10)]\n",
    "\n",
    "\n",
    "plt.rcParams[\"font.size\"] = 10\n",
    "fig, axs = plt.subplots(1, 3,figsize=(15, 5))\n",
    "REPs = 20\n",
    "ALPHA = 0.05\n",
    "for sim in [\"1\",\"2\",\"3\"]:\n",
    "    power_MIGHT = []\n",
    "    for n in SAMP_SIZES:\n",
    "        file_name = \"{}/{}_{}_{}\".format(SAVE_PATH, sim, 'MIGHT', n)\n",
    "        alt_dist, null_dist = map(\n",
    "                        np.float64,\n",
    "                        zip(*[\n",
    "                            np.genfromtxt(\"{}_{}.txt\".format(file_name, rep))\n",
    "                            for rep in range(4,REPs)\n",
    "                        ]),\n",
    "                    )\n",
    "        cutoff = np.sort(null_dist)[math.ceil((REPs-4) * (1 - ALPHA)) - 1]\n",
    "        empirical_power = (1 + (alt_dist >= cutoff).sum()) / (1 + (REPs-4))\n",
    "\n",
    "        power_MIGHT.append(empirical_power)\n",
    "    \n",
    "    \n",
    "    power_MIGHT_Coleman = []\n",
    "    for n in SAMP_SIZES:\n",
    "        df2 = np.genfromtxt(\"/Users/baiyuxin/Desktop/JHU/NDD/Cancer/df2_coleman.csv\",delimiter=\",\")[1:]\n",
    "        df_sim = df2[df2[:,1]==int(sim)]\n",
    "        df_samp = df_sim[df_sim[:,2]==n]\n",
    "        pvals = df_samp[:,3]\n",
    "        empirical_power = (1 + (pvals <= 0.05).sum()) / (1 + 100)\n",
    "        power_MIGHT_Coleman.append(empirical_power)\n",
    "    \n",
    "    power_MIGHT_Coleman_pertree = []\n",
    "    for n in SAMP_SIZES:\n",
    "        file_name = \"{}/{}_{}_{}\".format(SAVE_PATH, sim, 'MIGH_Coleman_pertree', n)\n",
    "        pvals = np.array([np.genfromtxt(\"{}_{}.txt\".format(file_name, rep)) for rep in range(REPs)])\n",
    "        empirical_power = (1 + (pvals <= ALPHA).sum()) / (1 + REPs)\n",
    "        power_MIGHT_Coleman_pertree.append(empirical_power)\n",
    "    \n",
    "    axs[int(sim)-1].plot(SAMP_SIZES_plot, power_MIGHT, 'blue',marker='o', markersize=2,label = \"MIGHT\",linewidth =2,alpha = 0.5)\n",
    "    axs[int(sim)-1].plot(SAMP_SIZES_plot, power_MIGHT_Coleman, 'green',marker='o', markersize=2,label = \"MIGHT_Coleman\",linewidth =2,alpha = 0.5)\n",
    "    axs[int(sim)-1].plot(SAMP_SIZES_plot, power_MIGHT_Coleman_pertree, 'red',marker='o', markersize=2,label = \"MIGHT_Coleman_Pertree\",linewidth =2,alpha = 0.5)\n",
    "    axs[int(sim)-1].plot(SAMP_SIZES_plot, ALPHA * np.ones(len(SAMP_SIZES_plot)) , 'black',linestyle='dashed',marker='o', markersize=2,label = \"Alpha\",linewidth =2,alpha = 0.5)\n",
    "    axs[int(sim)-1].set_ylim(0, 1.05)\n",
    "    axs[int(sim)-1].set_yticks([])\n",
    "    axs[int(sim)-1].set_xticks([])\n",
    "    axs[int(sim)-1].set_yticks([0, 1])\n",
    "    axs[int(sim)-1].set_xticks([200,500,1000])\n",
    "    axs[int(sim)-1].set_xlabel(\"Sample Size\")\n",
    "\n",
    "    if sim == \"1\":\n",
    "        axs[int(sim)-1].set_ylabel(\"Power at 4096 Dimensions\")\n",
    "        axs[int(sim)-1].set_title(\"TRUNK\")\n",
    "    if sim == \"2\":\n",
    "         axs[int(sim)-1].set_title(\"TRUNK-Overlap\")\n",
    "         \n",
    "if sim ==\"3\":\n",
    "        axs[int(sim)-1].set_title(\"TRUNK-Banbed\")\n",
    "        axs[int(sim)-1].legend(bbox_to_anchor = (1.8,1),loc = 'upper right')\n",
    "        # np.savetxt(\"{}/null_dist_{}_{}_{}.txt\".format(SAVE_PATH, sim, 'MIGHT',rep), obs_stats_samplesize, delimiter=\",\")\n",
    "        # np.savetxt(\"{}/null_dist_{}_{}_{}.txt\".format(SAVE_PATH, sim, 'MIGHT',rep), alt_stats_samplesize, delimiter=\",\")\n",
    "    "
   ]
  }
 ],
 "metadata": {
  "kernelspec": {
   "display_name": "might",
   "language": "python",
   "name": "python3"
  },
  "language_info": {
   "codemirror_mode": {
    "name": "ipython",
    "version": 3
   },
   "file_extension": ".py",
   "mimetype": "text/x-python",
   "name": "python",
   "nbconvert_exporter": "python",
   "pygments_lexer": "ipython3",
   "version": "3.11.4"
  }
 },
 "nbformat": 4,
 "nbformat_minor": 2
}
